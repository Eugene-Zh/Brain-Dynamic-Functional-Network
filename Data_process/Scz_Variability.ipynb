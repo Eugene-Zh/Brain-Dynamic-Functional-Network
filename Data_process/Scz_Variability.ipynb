{
 "cells": [
  {
   "cell_type": "markdown",
   "id": "fd36fb0b",
   "metadata": {},
   "source": [
    "# Scz 数据脑区动态变化"
   ]
  },
  {
   "cell_type": "code",
   "execution_count": 1,
   "id": "ae45df5e",
   "metadata": {
    "ExecuteTime": {
     "end_time": "2022-02-06T05:20:55.525304Z",
     "start_time": "2022-02-06T05:20:54.951064Z"
    }
   },
   "outputs": [],
   "source": [
    "import h5py\n",
    "import numpy as np\n",
    "from numpy import *\n",
    "import pandas as pd"
   ]
  },
  {
   "cell_type": "code",
   "execution_count": 2,
   "id": "3d749780",
   "metadata": {
    "ExecuteTime": {
     "end_time": "2022-02-06T05:20:56.190626Z",
     "start_time": "2022-02-06T05:20:56.163666Z"
    }
   },
   "outputs": [
    {
     "data": {
      "text/plain": [
       "<HDF5 file \"aal2_266.mat\" (mode r+)>"
      ]
     },
     "execution_count": 2,
     "metadata": {},
     "output_type": "execute_result"
    }
   ],
   "source": [
    "#读取mat文件\n",
    "fmri = h5py.File(\"/Users/eugene_zh/学术/ITSBI/研究生/研一/课题/scz_Data/aal2_266.mat\",'r+')               \n",
    "fmri"
   ]
  },
  {
   "cell_type": "code",
   "execution_count": 3,
   "id": "3e1702fe",
   "metadata": {
    "ExecuteTime": {
     "end_time": "2022-02-06T05:20:59.666753Z",
     "start_time": "2022-02-06T05:20:59.657992Z"
    }
   },
   "outputs": [
    {
     "name": "stdout",
     "output_type": "stream",
     "text": [
      "<KeysViewHDF5 ['#refs#', 'aal2_266']>\n",
      "ValuesViewHDF5(<HDF5 file \"aal2_266.mat\" (mode r+)>)\n"
     ]
    }
   ],
   "source": [
    "print(fmri.keys())\n",
    "print(fmri.values())"
   ]
  },
  {
   "cell_type": "code",
   "execution_count": 4,
   "id": "d279059f",
   "metadata": {
    "ExecuteTime": {
     "end_time": "2022-02-06T05:20:59.790921Z",
     "start_time": "2022-02-06T05:20:59.784662Z"
    }
   },
   "outputs": [],
   "source": [
    "data = fmri[\"aal2_266\"]"
   ]
  },
  {
   "cell_type": "markdown",
   "id": "b8a82bcc",
   "metadata": {},
   "source": [
    "计算FC"
   ]
  },
  {
   "cell_type": "code",
   "execution_count": 6,
   "id": "2f0958bb",
   "metadata": {
    "ExecuteTime": {
     "end_time": "2021-12-13T07:10:50.514988Z",
     "start_time": "2021-12-13T07:10:43.735510Z"
    }
   },
   "outputs": [],
   "source": [
    "# 全窗口计算静态FC\n",
    "fclist=[]\n",
    "for i in range(0,266):\n",
    "    df = pd.DataFrame(fmri[data[i][0]],).T\n",
    "    fcm = df.corr()\n",
    "    indices = np.triu_indices_from(fcm.values,1)\n",
    "    fc = np.asarray(fcm.values[indices])\n",
    "    fclist.append(fc)"
   ]
  },
  {
   "cell_type": "code",
   "execution_count": null,
   "id": "59ae9a68",
   "metadata": {
    "ExecuteTime": {
     "end_time": "2021-12-13T07:10:22.729199Z",
     "start_time": "2021-12-13T07:10:22.729191Z"
    }
   },
   "outputs": [],
   "source": [
    "len(fclist[1])"
   ]
  },
  {
   "cell_type": "code",
   "execution_count": null,
   "id": "9d70ac6d",
   "metadata": {
    "ExecuteTime": {
     "end_time": "2021-12-13T07:10:22.729992Z",
     "start_time": "2021-12-13T07:10:22.729983Z"
    }
   },
   "outputs": [],
   "source": [
    "# 一个被试的数据 行为时间点 列为脑区\n",
    "pd.DataFrame(fmri[data[265][0]]).T"
   ]
  },
  {
   "cell_type": "code",
   "execution_count": null,
   "id": "5f5a8f3c",
   "metadata": {
    "ExecuteTime": {
     "end_time": "2021-12-13T07:10:22.731193Z",
     "start_time": "2021-12-13T07:10:22.731181Z"
    }
   },
   "outputs": [],
   "source": [
    "# 试计算一个被试的动态变化\n",
    "v_266 = fc_var_all(pd.DataFrame(fmri[data[0][0]]).T,10)"
   ]
  },
  {
   "cell_type": "code",
   "execution_count": 68,
   "id": "bc1476f9",
   "metadata": {
    "ExecuteTime": {
     "end_time": "2021-12-17T14:00:20.093185Z",
     "start_time": "2021-12-17T13:42:11.878321Z"
    }
   },
   "outputs": [],
   "source": [
    "# 计算所有人的动态脑区变化\n",
    "\n",
    "var_266=[]\n",
    "\n",
    "for i in range(0,266):\n",
    "    var_266.append(fc_var_all(pd.DataFrame(fmri[data[i][0]]).T,10))"
   ]
  },
  {
   "cell_type": "code",
   "execution_count": 65,
   "id": "cc9aaf64",
   "metadata": {
    "ExecuteTime": {
     "end_time": "2021-12-17T13:41:55.740279Z",
     "start_time": "2021-12-17T13:27:11.885808Z"
    }
   },
   "outputs": [],
   "source": [
    "# 计算所有人的动态脑区变化\n",
    "\n",
    "var_266=[]\n",
    "\n",
    "for i in range(0,266):\n",
    "    var_266.append(fc_var_all(pd.DataFrame(fmri[data[i][0]]).T,10))"
   ]
  },
  {
   "cell_type": "code",
   "execution_count": 59,
   "id": "fba3624d",
   "metadata": {
    "ExecuteTime": {
     "end_time": "2021-12-17T13:24:21.411481Z",
     "start_time": "2021-12-17T13:24:21.392184Z"
    }
   },
   "outputs": [],
   "source": [
    "sz_avg = pd.DataFrame(var_266).mean()"
   ]
  },
  {
   "cell_type": "code",
   "execution_count": 78,
   "id": "5ac1d4da",
   "metadata": {
    "ExecuteTime": {
     "end_time": "2021-12-18T02:07:32.259571Z",
     "start_time": "2021-12-18T02:07:32.243470Z"
    }
   },
   "outputs": [],
   "source": [
    "sz_avg.to_csv('sz_dFC_all.csv')"
   ]
  },
  {
   "cell_type": "code",
   "execution_count": 80,
   "id": "4168c087",
   "metadata": {
    "ExecuteTime": {
     "end_time": "2021-12-18T02:08:05.893449Z",
     "start_time": "2021-12-18T02:08:05.884744Z"
    }
   },
   "outputs": [],
   "source": [
    "hc_avg.to_csv('hc_dFC_all.csv')"
   ]
  },
  {
   "cell_type": "code",
   "execution_count": 69,
   "id": "e1fefc7b",
   "metadata": {
    "ExecuteTime": {
     "end_time": "2021-12-17T14:00:20.283580Z",
     "start_time": "2021-12-17T14:00:20.280876Z"
    }
   },
   "outputs": [],
   "source": [
    "# 分患病组和健康组\n",
    "scz_var = var_266[0:154]\n",
    "hc_var = var_266[154:]"
   ]
  },
  {
   "cell_type": "code",
   "execution_count": 70,
   "id": "12fad852",
   "metadata": {
    "ExecuteTime": {
     "end_time": "2021-12-18T02:04:02.936527Z",
     "start_time": "2021-12-18T02:04:02.907237Z"
    }
   },
   "outputs": [],
   "source": [
    "#转为Dataframe\n",
    "sz_v = pd.DataFrame(scz_var)\n",
    "hc_v = pd.DataFrame(hc_var)\n",
    "\n",
    "sz_avg = sz_v.mean()\n",
    "hc_avg = hc_v.mean()"
   ]
  },
  {
   "cell_type": "code",
   "execution_count": 71,
   "id": "bf19ffa2",
   "metadata": {
    "ExecuteTime": {
     "end_time": "2021-12-18T02:04:04.577372Z",
     "start_time": "2021-12-18T02:04:04.569015Z"
    }
   },
   "outputs": [],
   "source": [
    "sz_avg = sz_v.mean()\n",
    "hc_avg = hc_v.mean()"
   ]
  },
  {
   "cell_type": "code",
   "execution_count": 79,
   "id": "ecb7ab1d",
   "metadata": {
    "ExecuteTime": {
     "end_time": "2021-12-18T02:07:46.077155Z",
     "start_time": "2021-12-18T02:07:46.065156Z"
    }
   },
   "outputs": [
    {
     "data": {
      "text/plain": [
       "92    0.865766\n",
       "81    0.863991\n",
       "93    0.860757\n",
       "80    0.860617\n",
       "74    0.857861\n",
       "        ...   \n",
       "13    0.773865\n",
       "12    0.773381\n",
       "49    0.766994\n",
       "53    0.765834\n",
       "52    0.758019\n",
       "Length: 94, dtype: float64"
      ]
     },
     "execution_count": 79,
     "metadata": {},
     "output_type": "execute_result"
    }
   ],
   "source": [
    "# 精分患者平均可变性降序排列\n",
    "sz_avg.sort_values(ascending=False)"
   ]
  },
  {
   "cell_type": "markdown",
   "id": "0f6fb165",
   "metadata": {},
   "source": [
    "**对于精分患者来说，脑区的变化性排名前五的是：（索引从0开始，括号内为脑区编号）**\n",
    "\n",
    "* 74（75）-- NCL（Caudate_L）尾状核左\n",
    "* 75（76）-- NCR（Caudate_R）尾状核右\n",
    "* 81（82）-- THAR（Thalamus_R）丘脑右\n",
    "* 42（43）-- PARA_HIPPOL（ParaHippocampal_L）海马旁回左\n",
    "* 92（93）-- T3L（Temporal_Inf_L）颞下回左\n",
    "\n",
    "**排序后五为：**\n",
    "\n",
    "* 50（51）-- LINGL（Lingual_L）舌回左\n",
    "* 12（13）-- ORL（Rolandic_Oper_L）中央沟盖左\n",
    "* 53（54）-- O1R（Occipital_Sup_R）枕上回右\n",
    "* 13（14）-- ORR（Rolandic_Oper_R）中央沟盖右\n",
    "* 52（53）-- O1L（Occipital_Sup_L）枕上回左"
   ]
  },
  {
   "cell_type": "code",
   "execution_count": null,
   "id": "4c88044a",
   "metadata": {
    "ExecuteTime": {
     "end_time": "2021-12-13T07:10:22.736291Z",
     "start_time": "2021-12-13T07:10:22.736283Z"
    }
   },
   "outputs": [],
   "source": [
    "# 健康患者平均可变性降序排列\n",
    "hc_avg.sort_values(ascending=False)"
   ]
  },
  {
   "cell_type": "markdown",
   "id": "0cc5649b",
   "metadata": {},
   "source": [
    "**对于正常对照组来说，脑区的变化性排名前五的是：（索引从0开始，括号内为脑区编号）**\n",
    "\n",
    "* 26（27）-- OFCant_L（OFCANTL）orbitofrontal cortex?前眶额皮层前部\n",
    "* 80（81）-- THAL（Thalamus_L）丘脑左\n",
    "* 74（75）-- NCL（Caudate_L）尾状核左\n",
    "* 16（17）-- COBL（Olfactory_L）嗅皮质左\n",
    "* 75（76）-- NCR（Caudate_R）尾状核右\n",
    "\n",
    "**排序后五为：**\n",
    "\n",
    "* 12（13）-- ORL（Rolandic_Oper_L）中央沟盖左\n",
    "* 50（51）-- LINGL（Lingual_L）舌回左\n",
    "* 49（50）-- QR（Cuneus_R）楔叶右\n",
    "* 51（52）-- LINGR（Lingual_R）舌回右\n",
    "* 52（53）-- O1L（Occipital_Sup_L）枕上回左"
   ]
  },
  {
   "cell_type": "code",
   "execution_count": 56,
   "id": "b904bd8f",
   "metadata": {
    "ExecuteTime": {
     "end_time": "2021-12-17T13:18:07.164691Z",
     "start_time": "2021-12-17T13:18:07.149101Z"
    }
   },
   "outputs": [],
   "source": [
    "# 计算函数主体\n",
    "\n",
    "def fc_var_all(data,window,*,stride = 0,roi = 0):\n",
    "    \"\"\"\n",
    "    ***********parameters*************\n",
    "    data: timeseries of fMRI,each columns match a specific region\n",
    "    \n",
    "    window: window length\n",
    "    stride: step of each move\n",
    "    roi: number of region of interest,start from 1, if 0 is received, return all\n",
    "    **********************************\n",
    "    \"\"\"\n",
    "    \n",
    "    \n",
    "    if not stride: # stride为0 无重叠滑窗\n",
    "        stride = window \n",
    "        \n",
    "    # 计算每个窗口下的FC矩阵\n",
    "    i = 0\n",
    "    fclist=[] # 每个窗口下的FC矩阵列表\n",
    "    while (i+window) < len(data)-1:\n",
    "        fc = np.corrcoef(data[i:i+window],rowvar=False)\n",
    "        fclist.append(fc)\n",
    "        i += stride\n",
    "    \n",
    "    # 计算动态变化性\n",
    "    corlist=[] # 每个脑区的列表\n",
    "    # 对每个脑区循环\n",
    "    for k in range(0,data.shape[1]):\n",
    "        corarray = []\n",
    "        for i in range(1,len(fclist)):\n",
    "            for j in range(0,i):\n",
    "                cor = pd.Series(fclist[i][k]).corr(pd.Series(fclist[j][k]))\n",
    "                # coarray--(1*(n(n-1)/2),n=window length)\n",
    "                corarray.append(cor)\n",
    "        Vk = 1-mean(corarray)\n",
    "        corlist.append(Vk)\n",
    "    \n",
    "    if roi:\n",
    "        return corlist[roi-1]\n",
    "    else:\n",
    "        return corlist"
   ]
  },
  {
   "cell_type": "code",
   "execution_count": null,
   "id": "672b7600",
   "metadata": {
    "ExecuteTime": {
     "end_time": "2021-12-13T07:10:22.738080Z",
     "start_time": "2021-12-13T07:10:22.738073Z"
    }
   },
   "outputs": [],
   "source": [
    "fmri[data[0][0]]"
   ]
  },
  {
   "cell_type": "code",
   "execution_count": 26,
   "id": "0e0ab9f5",
   "metadata": {
    "ExecuteTime": {
     "end_time": "2021-12-13T15:31:05.990394Z",
     "start_time": "2021-12-13T15:31:05.967666Z"
    }
   },
   "outputs": [],
   "source": [
    "fclist=[] # 每个窗口下的FC矩阵列表\n",
    "window = 10\n",
    "i=0\n",
    "while (i+window) < len(a)-1:\n",
    "    fc = np.corrcoef(a[i:i+window],rowvar=False)\n",
    "    fclist.append(fc)\n",
    "    i += window"
   ]
  },
  {
   "cell_type": "code",
   "execution_count": 7,
   "id": "242e438e",
   "metadata": {
    "ExecuteTime": {
     "end_time": "2021-12-17T01:49:59.636502Z",
     "start_time": "2021-12-17T01:49:52.791053Z"
    }
   },
   "outputs": [],
   "source": [
    "# 全窗口计算静态FC矩阵\n",
    "fcmlist=[]\n",
    "for i in range(0,266):\n",
    "    df = pd.DataFrame(fmri[data[i][0]],).T\n",
    "    fcm = df.corr().values\n",
    "    fcmlist.append(fcm)"
   ]
  },
  {
   "cell_type": "code",
   "execution_count": 8,
   "id": "32385627",
   "metadata": {
    "ExecuteTime": {
     "end_time": "2021-12-17T01:49:59.802949Z",
     "start_time": "2021-12-17T01:49:59.800721Z"
    }
   },
   "outputs": [],
   "source": [
    "# 分患病组和健康组\n",
    "scz_fcm = fcmlist[0:154]\n",
    "hc_fcm = fcmlist[154:]"
   ]
  },
  {
   "cell_type": "code",
   "execution_count": 9,
   "id": "effbfe1e",
   "metadata": {
    "ExecuteTime": {
     "end_time": "2021-12-17T01:50:00.101714Z",
     "start_time": "2021-12-17T01:50:00.097862Z"
    }
   },
   "outputs": [],
   "source": [
    "sum = np.zeros((94,94))\n",
    "for i in scz_fcm:\n",
    "    sum = sum + i\n",
    "\n",
    "scz_avg = sum / len(scz_fcm)\n",
    "\n",
    "sum = np.zeros((94,94))\n",
    "for i in hc_fcm:\n",
    "    sum = sum + i\n",
    "\n",
    "hc_avg = sum / len(hc_fcm)\n"
   ]
  },
  {
   "cell_type": "code",
   "execution_count": 13,
   "id": "5cf42438",
   "metadata": {
    "ExecuteTime": {
     "end_time": "2021-12-13T07:42:27.001149Z",
     "start_time": "2021-12-13T07:42:26.961884Z"
    }
   },
   "outputs": [
    {
     "data": {
      "text/html": [
       "<div>\n",
       "<style scoped>\n",
       "    .dataframe tbody tr th:only-of-type {\n",
       "        vertical-align: middle;\n",
       "    }\n",
       "\n",
       "    .dataframe tbody tr th {\n",
       "        vertical-align: top;\n",
       "    }\n",
       "\n",
       "    .dataframe thead th {\n",
       "        text-align: right;\n",
       "    }\n",
       "</style>\n",
       "<table border=\"1\" class=\"dataframe\">\n",
       "  <thead>\n",
       "    <tr style=\"text-align: right;\">\n",
       "      <th></th>\n",
       "      <th>0</th>\n",
       "      <th>1</th>\n",
       "      <th>2</th>\n",
       "      <th>3</th>\n",
       "      <th>4</th>\n",
       "      <th>5</th>\n",
       "      <th>6</th>\n",
       "      <th>7</th>\n",
       "      <th>8</th>\n",
       "      <th>9</th>\n",
       "      <th>...</th>\n",
       "      <th>84</th>\n",
       "      <th>85</th>\n",
       "      <th>86</th>\n",
       "      <th>87</th>\n",
       "      <th>88</th>\n",
       "      <th>89</th>\n",
       "      <th>90</th>\n",
       "      <th>91</th>\n",
       "      <th>92</th>\n",
       "      <th>93</th>\n",
       "    </tr>\n",
       "  </thead>\n",
       "  <tbody>\n",
       "    <tr>\n",
       "      <th>0</th>\n",
       "      <td>1.000000</td>\n",
       "      <td>0.757203</td>\n",
       "      <td>0.465950</td>\n",
       "      <td>0.356837</td>\n",
       "      <td>0.477134</td>\n",
       "      <td>0.369924</td>\n",
       "      <td>0.638678</td>\n",
       "      <td>0.535170</td>\n",
       "      <td>0.563926</td>\n",
       "      <td>0.447100</td>\n",
       "      <td>...</td>\n",
       "      <td>0.538803</td>\n",
       "      <td>0.481749</td>\n",
       "      <td>0.472447</td>\n",
       "      <td>0.463581</td>\n",
       "      <td>0.515173</td>\n",
       "      <td>0.447005</td>\n",
       "      <td>0.327844</td>\n",
       "      <td>0.299982</td>\n",
       "      <td>0.549128</td>\n",
       "      <td>0.505456</td>\n",
       "    </tr>\n",
       "    <tr>\n",
       "      <th>1</th>\n",
       "      <td>0.757203</td>\n",
       "      <td>1.000000</td>\n",
       "      <td>0.339523</td>\n",
       "      <td>0.331996</td>\n",
       "      <td>0.293238</td>\n",
       "      <td>0.311189</td>\n",
       "      <td>0.448308</td>\n",
       "      <td>0.502731</td>\n",
       "      <td>0.344768</td>\n",
       "      <td>0.378756</td>\n",
       "      <td>...</td>\n",
       "      <td>0.551947</td>\n",
       "      <td>0.523348</td>\n",
       "      <td>0.447764</td>\n",
       "      <td>0.491271</td>\n",
       "      <td>0.396622</td>\n",
       "      <td>0.428976</td>\n",
       "      <td>0.290678</td>\n",
       "      <td>0.307588</td>\n",
       "      <td>0.406995</td>\n",
       "      <td>0.462253</td>\n",
       "    </tr>\n",
       "    <tr>\n",
       "      <th>2</th>\n",
       "      <td>0.465950</td>\n",
       "      <td>0.339523</td>\n",
       "      <td>1.000000</td>\n",
       "      <td>0.681880</td>\n",
       "      <td>0.763563</td>\n",
       "      <td>0.478834</td>\n",
       "      <td>0.338621</td>\n",
       "      <td>0.257812</td>\n",
       "      <td>0.499122</td>\n",
       "      <td>0.381768</td>\n",
       "      <td>...</td>\n",
       "      <td>0.329157</td>\n",
       "      <td>0.383577</td>\n",
       "      <td>0.453233</td>\n",
       "      <td>0.411573</td>\n",
       "      <td>0.601476</td>\n",
       "      <td>0.500368</td>\n",
       "      <td>0.468620</td>\n",
       "      <td>0.462315</td>\n",
       "      <td>0.524095</td>\n",
       "      <td>0.480371</td>\n",
       "    </tr>\n",
       "    <tr>\n",
       "      <th>3</th>\n",
       "      <td>0.356837</td>\n",
       "      <td>0.331996</td>\n",
       "      <td>0.681880</td>\n",
       "      <td>1.000000</td>\n",
       "      <td>0.592891</td>\n",
       "      <td>0.764046</td>\n",
       "      <td>0.255085</td>\n",
       "      <td>0.415244</td>\n",
       "      <td>0.309539</td>\n",
       "      <td>0.511372</td>\n",
       "      <td>...</td>\n",
       "      <td>0.312005</td>\n",
       "      <td>0.427883</td>\n",
       "      <td>0.331096</td>\n",
       "      <td>0.404617</td>\n",
       "      <td>0.449611</td>\n",
       "      <td>0.607453</td>\n",
       "      <td>0.333777</td>\n",
       "      <td>0.461760</td>\n",
       "      <td>0.463297</td>\n",
       "      <td>0.555941</td>\n",
       "    </tr>\n",
       "    <tr>\n",
       "      <th>4</th>\n",
       "      <td>0.477134</td>\n",
       "      <td>0.293238</td>\n",
       "      <td>0.763563</td>\n",
       "      <td>0.592891</td>\n",
       "      <td>1.000000</td>\n",
       "      <td>0.700728</td>\n",
       "      <td>0.545427</td>\n",
       "      <td>0.459583</td>\n",
       "      <td>0.705124</td>\n",
       "      <td>0.531731</td>\n",
       "      <td>...</td>\n",
       "      <td>0.324264</td>\n",
       "      <td>0.347295</td>\n",
       "      <td>0.329332</td>\n",
       "      <td>0.296115</td>\n",
       "      <td>0.540411</td>\n",
       "      <td>0.444700</td>\n",
       "      <td>0.285889</td>\n",
       "      <td>0.263025</td>\n",
       "      <td>0.586717</td>\n",
       "      <td>0.480965</td>\n",
       "    </tr>\n",
       "    <tr>\n",
       "      <th>...</th>\n",
       "      <td>...</td>\n",
       "      <td>...</td>\n",
       "      <td>...</td>\n",
       "      <td>...</td>\n",
       "      <td>...</td>\n",
       "      <td>...</td>\n",
       "      <td>...</td>\n",
       "      <td>...</td>\n",
       "      <td>...</td>\n",
       "      <td>...</td>\n",
       "      <td>...</td>\n",
       "      <td>...</td>\n",
       "      <td>...</td>\n",
       "      <td>...</td>\n",
       "      <td>...</td>\n",
       "      <td>...</td>\n",
       "      <td>...</td>\n",
       "      <td>...</td>\n",
       "      <td>...</td>\n",
       "      <td>...</td>\n",
       "      <td>...</td>\n",
       "    </tr>\n",
       "    <tr>\n",
       "      <th>89</th>\n",
       "      <td>0.447005</td>\n",
       "      <td>0.428976</td>\n",
       "      <td>0.500368</td>\n",
       "      <td>0.607453</td>\n",
       "      <td>0.444700</td>\n",
       "      <td>0.524574</td>\n",
       "      <td>0.286475</td>\n",
       "      <td>0.413525</td>\n",
       "      <td>0.379412</td>\n",
       "      <td>0.568325</td>\n",
       "      <td>...</td>\n",
       "      <td>0.521782</td>\n",
       "      <td>0.704720</td>\n",
       "      <td>0.533859</td>\n",
       "      <td>0.661638</td>\n",
       "      <td>0.762587</td>\n",
       "      <td>1.000000</td>\n",
       "      <td>0.531297</td>\n",
       "      <td>0.655740</td>\n",
       "      <td>0.621018</td>\n",
       "      <td>0.737393</td>\n",
       "    </tr>\n",
       "    <tr>\n",
       "      <th>90</th>\n",
       "      <td>0.327844</td>\n",
       "      <td>0.290678</td>\n",
       "      <td>0.468620</td>\n",
       "      <td>0.333777</td>\n",
       "      <td>0.285889</td>\n",
       "      <td>0.165300</td>\n",
       "      <td>0.126426</td>\n",
       "      <td>0.084223</td>\n",
       "      <td>0.306894</td>\n",
       "      <td>0.245755</td>\n",
       "      <td>...</td>\n",
       "      <td>0.322272</td>\n",
       "      <td>0.408972</td>\n",
       "      <td>0.706572</td>\n",
       "      <td>0.629483</td>\n",
       "      <td>0.653232</td>\n",
       "      <td>0.531297</td>\n",
       "      <td>1.000000</td>\n",
       "      <td>0.769725</td>\n",
       "      <td>0.513548</td>\n",
       "      <td>0.465363</td>\n",
       "    </tr>\n",
       "    <tr>\n",
       "      <th>91</th>\n",
       "      <td>0.299982</td>\n",
       "      <td>0.307588</td>\n",
       "      <td>0.462315</td>\n",
       "      <td>0.461760</td>\n",
       "      <td>0.263025</td>\n",
       "      <td>0.238224</td>\n",
       "      <td>0.070771</td>\n",
       "      <td>0.109648</td>\n",
       "      <td>0.232456</td>\n",
       "      <td>0.337135</td>\n",
       "      <td>...</td>\n",
       "      <td>0.316526</td>\n",
       "      <td>0.504032</td>\n",
       "      <td>0.617395</td>\n",
       "      <td>0.736241</td>\n",
       "      <td>0.626573</td>\n",
       "      <td>0.655740</td>\n",
       "      <td>0.769725</td>\n",
       "      <td>1.000000</td>\n",
       "      <td>0.428189</td>\n",
       "      <td>0.491687</td>\n",
       "    </tr>\n",
       "    <tr>\n",
       "      <th>92</th>\n",
       "      <td>0.549128</td>\n",
       "      <td>0.406995</td>\n",
       "      <td>0.524095</td>\n",
       "      <td>0.463297</td>\n",
       "      <td>0.586717</td>\n",
       "      <td>0.503110</td>\n",
       "      <td>0.488991</td>\n",
       "      <td>0.445712</td>\n",
       "      <td>0.537907</td>\n",
       "      <td>0.468144</td>\n",
       "      <td>...</td>\n",
       "      <td>0.422242</td>\n",
       "      <td>0.432069</td>\n",
       "      <td>0.498489</td>\n",
       "      <td>0.468840</td>\n",
       "      <td>0.667458</td>\n",
       "      <td>0.621018</td>\n",
       "      <td>0.513548</td>\n",
       "      <td>0.428189</td>\n",
       "      <td>1.000000</td>\n",
       "      <td>0.772881</td>\n",
       "    </tr>\n",
       "    <tr>\n",
       "      <th>93</th>\n",
       "      <td>0.505456</td>\n",
       "      <td>0.462253</td>\n",
       "      <td>0.480371</td>\n",
       "      <td>0.555941</td>\n",
       "      <td>0.480965</td>\n",
       "      <td>0.554836</td>\n",
       "      <td>0.362556</td>\n",
       "      <td>0.473602</td>\n",
       "      <td>0.378350</td>\n",
       "      <td>0.481828</td>\n",
       "      <td>...</td>\n",
       "      <td>0.417625</td>\n",
       "      <td>0.469010</td>\n",
       "      <td>0.462380</td>\n",
       "      <td>0.495229</td>\n",
       "      <td>0.581245</td>\n",
       "      <td>0.737393</td>\n",
       "      <td>0.465363</td>\n",
       "      <td>0.491687</td>\n",
       "      <td>0.772881</td>\n",
       "      <td>1.000000</td>\n",
       "    </tr>\n",
       "  </tbody>\n",
       "</table>\n",
       "<p>94 rows × 94 columns</p>\n",
       "</div>"
      ],
      "text/plain": [
       "          0         1         2         3         4         5         6   \\\n",
       "0   1.000000  0.757203  0.465950  0.356837  0.477134  0.369924  0.638678   \n",
       "1   0.757203  1.000000  0.339523  0.331996  0.293238  0.311189  0.448308   \n",
       "2   0.465950  0.339523  1.000000  0.681880  0.763563  0.478834  0.338621   \n",
       "3   0.356837  0.331996  0.681880  1.000000  0.592891  0.764046  0.255085   \n",
       "4   0.477134  0.293238  0.763563  0.592891  1.000000  0.700728  0.545427   \n",
       "..       ...       ...       ...       ...       ...       ...       ...   \n",
       "89  0.447005  0.428976  0.500368  0.607453  0.444700  0.524574  0.286475   \n",
       "90  0.327844  0.290678  0.468620  0.333777  0.285889  0.165300  0.126426   \n",
       "91  0.299982  0.307588  0.462315  0.461760  0.263025  0.238224  0.070771   \n",
       "92  0.549128  0.406995  0.524095  0.463297  0.586717  0.503110  0.488991   \n",
       "93  0.505456  0.462253  0.480371  0.555941  0.480965  0.554836  0.362556   \n",
       "\n",
       "          7         8         9   ...        84        85        86        87  \\\n",
       "0   0.535170  0.563926  0.447100  ...  0.538803  0.481749  0.472447  0.463581   \n",
       "1   0.502731  0.344768  0.378756  ...  0.551947  0.523348  0.447764  0.491271   \n",
       "2   0.257812  0.499122  0.381768  ...  0.329157  0.383577  0.453233  0.411573   \n",
       "3   0.415244  0.309539  0.511372  ...  0.312005  0.427883  0.331096  0.404617   \n",
       "4   0.459583  0.705124  0.531731  ...  0.324264  0.347295  0.329332  0.296115   \n",
       "..       ...       ...       ...  ...       ...       ...       ...       ...   \n",
       "89  0.413525  0.379412  0.568325  ...  0.521782  0.704720  0.533859  0.661638   \n",
       "90  0.084223  0.306894  0.245755  ...  0.322272  0.408972  0.706572  0.629483   \n",
       "91  0.109648  0.232456  0.337135  ...  0.316526  0.504032  0.617395  0.736241   \n",
       "92  0.445712  0.537907  0.468144  ...  0.422242  0.432069  0.498489  0.468840   \n",
       "93  0.473602  0.378350  0.481828  ...  0.417625  0.469010  0.462380  0.495229   \n",
       "\n",
       "          88        89        90        91        92        93  \n",
       "0   0.515173  0.447005  0.327844  0.299982  0.549128  0.505456  \n",
       "1   0.396622  0.428976  0.290678  0.307588  0.406995  0.462253  \n",
       "2   0.601476  0.500368  0.468620  0.462315  0.524095  0.480371  \n",
       "3   0.449611  0.607453  0.333777  0.461760  0.463297  0.555941  \n",
       "4   0.540411  0.444700  0.285889  0.263025  0.586717  0.480965  \n",
       "..       ...       ...       ...       ...       ...       ...  \n",
       "89  0.762587  1.000000  0.531297  0.655740  0.621018  0.737393  \n",
       "90  0.653232  0.531297  1.000000  0.769725  0.513548  0.465363  \n",
       "91  0.626573  0.655740  0.769725  1.000000  0.428189  0.491687  \n",
       "92  0.667458  0.621018  0.513548  0.428189  1.000000  0.772881  \n",
       "93  0.581245  0.737393  0.465363  0.491687  0.772881  1.000000  \n",
       "\n",
       "[94 rows x 94 columns]"
      ]
     },
     "execution_count": 13,
     "metadata": {},
     "output_type": "execute_result"
    }
   ],
   "source": [
    "pd.DataFrame(scz_avg)"
   ]
  },
  {
   "cell_type": "code",
   "execution_count": 14,
   "id": "04bffa39",
   "metadata": {
    "ExecuteTime": {
     "end_time": "2021-12-13T07:42:30.663883Z",
     "start_time": "2021-12-13T07:42:30.627419Z"
    }
   },
   "outputs": [
    {
     "data": {
      "text/html": [
       "<div>\n",
       "<style scoped>\n",
       "    .dataframe tbody tr th:only-of-type {\n",
       "        vertical-align: middle;\n",
       "    }\n",
       "\n",
       "    .dataframe tbody tr th {\n",
       "        vertical-align: top;\n",
       "    }\n",
       "\n",
       "    .dataframe thead th {\n",
       "        text-align: right;\n",
       "    }\n",
       "</style>\n",
       "<table border=\"1\" class=\"dataframe\">\n",
       "  <thead>\n",
       "    <tr style=\"text-align: right;\">\n",
       "      <th></th>\n",
       "      <th>0</th>\n",
       "      <th>1</th>\n",
       "      <th>2</th>\n",
       "      <th>3</th>\n",
       "      <th>4</th>\n",
       "      <th>5</th>\n",
       "      <th>6</th>\n",
       "      <th>7</th>\n",
       "      <th>8</th>\n",
       "      <th>9</th>\n",
       "      <th>...</th>\n",
       "      <th>84</th>\n",
       "      <th>85</th>\n",
       "      <th>86</th>\n",
       "      <th>87</th>\n",
       "      <th>88</th>\n",
       "      <th>89</th>\n",
       "      <th>90</th>\n",
       "      <th>91</th>\n",
       "      <th>92</th>\n",
       "      <th>93</th>\n",
       "    </tr>\n",
       "  </thead>\n",
       "  <tbody>\n",
       "    <tr>\n",
       "      <th>0</th>\n",
       "      <td>1.000000</td>\n",
       "      <td>0.777080</td>\n",
       "      <td>0.470027</td>\n",
       "      <td>0.369987</td>\n",
       "      <td>0.462263</td>\n",
       "      <td>0.384898</td>\n",
       "      <td>0.637564</td>\n",
       "      <td>0.550542</td>\n",
       "      <td>0.567172</td>\n",
       "      <td>0.466211</td>\n",
       "      <td>...</td>\n",
       "      <td>0.590074</td>\n",
       "      <td>0.517586</td>\n",
       "      <td>0.506997</td>\n",
       "      <td>0.511849</td>\n",
       "      <td>0.524255</td>\n",
       "      <td>0.473132</td>\n",
       "      <td>0.353609</td>\n",
       "      <td>0.340379</td>\n",
       "      <td>0.581080</td>\n",
       "      <td>0.534852</td>\n",
       "    </tr>\n",
       "    <tr>\n",
       "      <th>1</th>\n",
       "      <td>0.777080</td>\n",
       "      <td>1.000000</td>\n",
       "      <td>0.363071</td>\n",
       "      <td>0.338462</td>\n",
       "      <td>0.284219</td>\n",
       "      <td>0.301916</td>\n",
       "      <td>0.440818</td>\n",
       "      <td>0.480103</td>\n",
       "      <td>0.370537</td>\n",
       "      <td>0.394034</td>\n",
       "      <td>...</td>\n",
       "      <td>0.611296</td>\n",
       "      <td>0.564879</td>\n",
       "      <td>0.486972</td>\n",
       "      <td>0.529553</td>\n",
       "      <td>0.444770</td>\n",
       "      <td>0.465420</td>\n",
       "      <td>0.327106</td>\n",
       "      <td>0.343333</td>\n",
       "      <td>0.452811</td>\n",
       "      <td>0.483827</td>\n",
       "    </tr>\n",
       "    <tr>\n",
       "      <th>2</th>\n",
       "      <td>0.470027</td>\n",
       "      <td>0.363071</td>\n",
       "      <td>1.000000</td>\n",
       "      <td>0.680319</td>\n",
       "      <td>0.738571</td>\n",
       "      <td>0.472750</td>\n",
       "      <td>0.330180</td>\n",
       "      <td>0.280184</td>\n",
       "      <td>0.463262</td>\n",
       "      <td>0.339156</td>\n",
       "      <td>...</td>\n",
       "      <td>0.357269</td>\n",
       "      <td>0.397147</td>\n",
       "      <td>0.457387</td>\n",
       "      <td>0.428428</td>\n",
       "      <td>0.576688</td>\n",
       "      <td>0.511481</td>\n",
       "      <td>0.474087</td>\n",
       "      <td>0.479198</td>\n",
       "      <td>0.550640</td>\n",
       "      <td>0.529755</td>\n",
       "    </tr>\n",
       "    <tr>\n",
       "      <th>3</th>\n",
       "      <td>0.369987</td>\n",
       "      <td>0.338462</td>\n",
       "      <td>0.680319</td>\n",
       "      <td>1.000000</td>\n",
       "      <td>0.596851</td>\n",
       "      <td>0.766932</td>\n",
       "      <td>0.256409</td>\n",
       "      <td>0.432806</td>\n",
       "      <td>0.296772</td>\n",
       "      <td>0.455415</td>\n",
       "      <td>...</td>\n",
       "      <td>0.316767</td>\n",
       "      <td>0.401533</td>\n",
       "      <td>0.321008</td>\n",
       "      <td>0.380247</td>\n",
       "      <td>0.419085</td>\n",
       "      <td>0.566910</td>\n",
       "      <td>0.320592</td>\n",
       "      <td>0.434543</td>\n",
       "      <td>0.483700</td>\n",
       "      <td>0.575563</td>\n",
       "    </tr>\n",
       "    <tr>\n",
       "      <th>4</th>\n",
       "      <td>0.462263</td>\n",
       "      <td>0.284219</td>\n",
       "      <td>0.738571</td>\n",
       "      <td>0.596851</td>\n",
       "      <td>1.000000</td>\n",
       "      <td>0.702552</td>\n",
       "      <td>0.544091</td>\n",
       "      <td>0.473491</td>\n",
       "      <td>0.681881</td>\n",
       "      <td>0.501436</td>\n",
       "      <td>...</td>\n",
       "      <td>0.302235</td>\n",
       "      <td>0.318719</td>\n",
       "      <td>0.307256</td>\n",
       "      <td>0.285860</td>\n",
       "      <td>0.487224</td>\n",
       "      <td>0.441234</td>\n",
       "      <td>0.274434</td>\n",
       "      <td>0.263438</td>\n",
       "      <td>0.607086</td>\n",
       "      <td>0.515794</td>\n",
       "    </tr>\n",
       "    <tr>\n",
       "      <th>...</th>\n",
       "      <td>...</td>\n",
       "      <td>...</td>\n",
       "      <td>...</td>\n",
       "      <td>...</td>\n",
       "      <td>...</td>\n",
       "      <td>...</td>\n",
       "      <td>...</td>\n",
       "      <td>...</td>\n",
       "      <td>...</td>\n",
       "      <td>...</td>\n",
       "      <td>...</td>\n",
       "      <td>...</td>\n",
       "      <td>...</td>\n",
       "      <td>...</td>\n",
       "      <td>...</td>\n",
       "      <td>...</td>\n",
       "      <td>...</td>\n",
       "      <td>...</td>\n",
       "      <td>...</td>\n",
       "      <td>...</td>\n",
       "      <td>...</td>\n",
       "    </tr>\n",
       "    <tr>\n",
       "      <th>89</th>\n",
       "      <td>0.473132</td>\n",
       "      <td>0.465420</td>\n",
       "      <td>0.511481</td>\n",
       "      <td>0.566910</td>\n",
       "      <td>0.441234</td>\n",
       "      <td>0.490030</td>\n",
       "      <td>0.333043</td>\n",
       "      <td>0.434039</td>\n",
       "      <td>0.412925</td>\n",
       "      <td>0.539280</td>\n",
       "      <td>...</td>\n",
       "      <td>0.587375</td>\n",
       "      <td>0.734956</td>\n",
       "      <td>0.570216</td>\n",
       "      <td>0.685904</td>\n",
       "      <td>0.805583</td>\n",
       "      <td>1.000000</td>\n",
       "      <td>0.552279</td>\n",
       "      <td>0.671905</td>\n",
       "      <td>0.664002</td>\n",
       "      <td>0.765348</td>\n",
       "    </tr>\n",
       "    <tr>\n",
       "      <th>90</th>\n",
       "      <td>0.353609</td>\n",
       "      <td>0.327106</td>\n",
       "      <td>0.474087</td>\n",
       "      <td>0.320592</td>\n",
       "      <td>0.274434</td>\n",
       "      <td>0.179484</td>\n",
       "      <td>0.186034</td>\n",
       "      <td>0.154382</td>\n",
       "      <td>0.336391</td>\n",
       "      <td>0.277135</td>\n",
       "      <td>...</td>\n",
       "      <td>0.396028</td>\n",
       "      <td>0.456401</td>\n",
       "      <td>0.746250</td>\n",
       "      <td>0.673926</td>\n",
       "      <td>0.692871</td>\n",
       "      <td>0.552279</td>\n",
       "      <td>1.000000</td>\n",
       "      <td>0.805553</td>\n",
       "      <td>0.538808</td>\n",
       "      <td>0.505995</td>\n",
       "    </tr>\n",
       "    <tr>\n",
       "      <th>91</th>\n",
       "      <td>0.340379</td>\n",
       "      <td>0.343333</td>\n",
       "      <td>0.479198</td>\n",
       "      <td>0.434543</td>\n",
       "      <td>0.263438</td>\n",
       "      <td>0.232245</td>\n",
       "      <td>0.150529</td>\n",
       "      <td>0.174011</td>\n",
       "      <td>0.270090</td>\n",
       "      <td>0.333254</td>\n",
       "      <td>...</td>\n",
       "      <td>0.390727</td>\n",
       "      <td>0.537694</td>\n",
       "      <td>0.679388</td>\n",
       "      <td>0.757036</td>\n",
       "      <td>0.677822</td>\n",
       "      <td>0.671905</td>\n",
       "      <td>0.805553</td>\n",
       "      <td>1.000000</td>\n",
       "      <td>0.497864</td>\n",
       "      <td>0.553893</td>\n",
       "    </tr>\n",
       "    <tr>\n",
       "      <th>92</th>\n",
       "      <td>0.581080</td>\n",
       "      <td>0.452811</td>\n",
       "      <td>0.550640</td>\n",
       "      <td>0.483700</td>\n",
       "      <td>0.607086</td>\n",
       "      <td>0.512853</td>\n",
       "      <td>0.512261</td>\n",
       "      <td>0.476772</td>\n",
       "      <td>0.587125</td>\n",
       "      <td>0.501330</td>\n",
       "      <td>...</td>\n",
       "      <td>0.464886</td>\n",
       "      <td>0.472943</td>\n",
       "      <td>0.536803</td>\n",
       "      <td>0.526827</td>\n",
       "      <td>0.699352</td>\n",
       "      <td>0.664002</td>\n",
       "      <td>0.538808</td>\n",
       "      <td>0.497864</td>\n",
       "      <td>1.000000</td>\n",
       "      <td>0.807220</td>\n",
       "    </tr>\n",
       "    <tr>\n",
       "      <th>93</th>\n",
       "      <td>0.534852</td>\n",
       "      <td>0.483827</td>\n",
       "      <td>0.529755</td>\n",
       "      <td>0.575563</td>\n",
       "      <td>0.515794</td>\n",
       "      <td>0.566265</td>\n",
       "      <td>0.395348</td>\n",
       "      <td>0.492288</td>\n",
       "      <td>0.441745</td>\n",
       "      <td>0.497796</td>\n",
       "      <td>...</td>\n",
       "      <td>0.487644</td>\n",
       "      <td>0.528308</td>\n",
       "      <td>0.525176</td>\n",
       "      <td>0.561661</td>\n",
       "      <td>0.647573</td>\n",
       "      <td>0.765348</td>\n",
       "      <td>0.505995</td>\n",
       "      <td>0.553893</td>\n",
       "      <td>0.807220</td>\n",
       "      <td>1.000000</td>\n",
       "    </tr>\n",
       "  </tbody>\n",
       "</table>\n",
       "<p>94 rows × 94 columns</p>\n",
       "</div>"
      ],
      "text/plain": [
       "          0         1         2         3         4         5         6   \\\n",
       "0   1.000000  0.777080  0.470027  0.369987  0.462263  0.384898  0.637564   \n",
       "1   0.777080  1.000000  0.363071  0.338462  0.284219  0.301916  0.440818   \n",
       "2   0.470027  0.363071  1.000000  0.680319  0.738571  0.472750  0.330180   \n",
       "3   0.369987  0.338462  0.680319  1.000000  0.596851  0.766932  0.256409   \n",
       "4   0.462263  0.284219  0.738571  0.596851  1.000000  0.702552  0.544091   \n",
       "..       ...       ...       ...       ...       ...       ...       ...   \n",
       "89  0.473132  0.465420  0.511481  0.566910  0.441234  0.490030  0.333043   \n",
       "90  0.353609  0.327106  0.474087  0.320592  0.274434  0.179484  0.186034   \n",
       "91  0.340379  0.343333  0.479198  0.434543  0.263438  0.232245  0.150529   \n",
       "92  0.581080  0.452811  0.550640  0.483700  0.607086  0.512853  0.512261   \n",
       "93  0.534852  0.483827  0.529755  0.575563  0.515794  0.566265  0.395348   \n",
       "\n",
       "          7         8         9   ...        84        85        86        87  \\\n",
       "0   0.550542  0.567172  0.466211  ...  0.590074  0.517586  0.506997  0.511849   \n",
       "1   0.480103  0.370537  0.394034  ...  0.611296  0.564879  0.486972  0.529553   \n",
       "2   0.280184  0.463262  0.339156  ...  0.357269  0.397147  0.457387  0.428428   \n",
       "3   0.432806  0.296772  0.455415  ...  0.316767  0.401533  0.321008  0.380247   \n",
       "4   0.473491  0.681881  0.501436  ...  0.302235  0.318719  0.307256  0.285860   \n",
       "..       ...       ...       ...  ...       ...       ...       ...       ...   \n",
       "89  0.434039  0.412925  0.539280  ...  0.587375  0.734956  0.570216  0.685904   \n",
       "90  0.154382  0.336391  0.277135  ...  0.396028  0.456401  0.746250  0.673926   \n",
       "91  0.174011  0.270090  0.333254  ...  0.390727  0.537694  0.679388  0.757036   \n",
       "92  0.476772  0.587125  0.501330  ...  0.464886  0.472943  0.536803  0.526827   \n",
       "93  0.492288  0.441745  0.497796  ...  0.487644  0.528308  0.525176  0.561661   \n",
       "\n",
       "          88        89        90        91        92        93  \n",
       "0   0.524255  0.473132  0.353609  0.340379  0.581080  0.534852  \n",
       "1   0.444770  0.465420  0.327106  0.343333  0.452811  0.483827  \n",
       "2   0.576688  0.511481  0.474087  0.479198  0.550640  0.529755  \n",
       "3   0.419085  0.566910  0.320592  0.434543  0.483700  0.575563  \n",
       "4   0.487224  0.441234  0.274434  0.263438  0.607086  0.515794  \n",
       "..       ...       ...       ...       ...       ...       ...  \n",
       "89  0.805583  1.000000  0.552279  0.671905  0.664002  0.765348  \n",
       "90  0.692871  0.552279  1.000000  0.805553  0.538808  0.505995  \n",
       "91  0.677822  0.671905  0.805553  1.000000  0.497864  0.553893  \n",
       "92  0.699352  0.664002  0.538808  0.497864  1.000000  0.807220  \n",
       "93  0.647573  0.765348  0.505995  0.553893  0.807220  1.000000  \n",
       "\n",
       "[94 rows x 94 columns]"
      ]
     },
     "execution_count": 14,
     "metadata": {},
     "output_type": "execute_result"
    }
   ],
   "source": [
    "pd.DataFrame(hc_avg)"
   ]
  },
  {
   "cell_type": "code",
   "execution_count": 37,
   "id": "526cc80f",
   "metadata": {
    "ExecuteTime": {
     "end_time": "2021-12-17T13:07:26.814021Z",
     "start_time": "2021-12-17T13:07:26.807224Z"
    }
   },
   "outputs": [],
   "source": [
    "import community\n",
    "from community import community_louvain\n",
    "import matplotlib.cm as cm\n",
    "import matplotlib.pyplot as plt\n",
    "import networkx as nx"
   ]
  },
  {
   "cell_type": "code",
   "execution_count": 38,
   "id": "3d0ce39d",
   "metadata": {
    "ExecuteTime": {
     "end_time": "2021-12-17T13:07:27.293403Z",
     "start_time": "2021-12-17T13:07:27.237780Z"
    }
   },
   "outputs": [],
   "source": [
    "# load the karate club graph\n",
    "G_scz = nx.from_numpy_array(scz_avg)\n",
    "\n",
    "G_hc = nx.from_numpy_array(hc_avg)"
   ]
  },
  {
   "cell_type": "code",
   "execution_count": 39,
   "id": "e1375312",
   "metadata": {
    "ExecuteTime": {
     "end_time": "2021-12-17T13:07:27.860615Z",
     "start_time": "2021-12-17T13:07:27.769744Z"
    }
   },
   "outputs": [],
   "source": [
    "partition_scz = community_louvain.best_partition(G_scz)a\n",
    "partition_hc = community_louvain.best_partition(G_hc)"
   ]
  },
  {
   "cell_type": "code",
   "execution_count": 40,
   "id": "870d2ca0",
   "metadata": {
    "ExecuteTime": {
     "end_time": "2021-12-17T13:07:28.726494Z",
     "start_time": "2021-12-17T13:07:28.603570Z"
    }
   },
   "outputs": [
    {
     "data": {
      "text/plain": [
       "<matplotlib.collections.PathCollection at 0x7f9e50c531f0>"
      ]
     },
     "execution_count": 40,
     "metadata": {},
     "output_type": "execute_result"
    },
    {
     "data": {
      "image/png": "[encoded data removed]",
      "text/plain": [
       "<Figure size 432x288 with 1 Axes>"
      ]
     },
     "metadata": {},
     "output_type": "display_data"
    }
   ],
   "source": [
    "# draw the graph\n",
    "pos = nx.spring_layout(G_scz)\n",
    "# color the nodes according to their partition\n",
    "cmap = cm.get_cmap('viridis', max(partition_scz.values()) + 1)\n",
    "nx.draw_networkx_nodes(G_scz, pos, partition_scz.keys(), node_size=40,\n",
    "                       cmap=cmap, node_color=list(partition_scz.values()))\n"
   ]
  },
  {
   "cell_type": "code",
   "execution_count": 41,
   "id": "df0bdae9",
   "metadata": {
    "ExecuteTime": {
     "end_time": "2021-12-17T13:07:35.348594Z",
     "start_time": "2021-12-17T13:07:35.332029Z"
    }
   },
   "outputs": [],
   "source": [
    "comm = pd.DataFrame([partition_hc,partition_scz]).T"
   ]
  },
  {
   "cell_type": "code",
   "execution_count": 66,
   "id": "056c9873",
   "metadata": {
    "ExecuteTime": {
     "end_time": "2021-12-17T13:41:55.913449Z",
     "start_time": "2021-12-17T13:41:55.911028Z"
    }
   },
   "outputs": [],
   "source": [
    "comm0 = get_key(partition_hc,0)\n",
    "comm1 = get_key(partition_hc,1)\n",
    "comm2 = get_key(partition_hc,2)\n",
    "comm3 = get_key(partition_hc,3)"
   ]
  },
  {
   "cell_type": "code",
   "execution_count": 48,
   "id": "690f1000",
   "metadata": {
    "ExecuteTime": {
     "end_time": "2021-12-17T13:08:13.871051Z",
     "start_time": "2021-12-17T13:08:13.860456Z"
    }
   },
   "outputs": [
    {
     "data": {
      "text/plain": [
       "[1,\n",
       " 2,\n",
       " 7,\n",
       " 8,\n",
       " 9,\n",
       " 10,\n",
       " 13,\n",
       " 14,\n",
       " 15,\n",
       " 16,\n",
       " 33,\n",
       " 34,\n",
       " 61,\n",
       " 62,\n",
       " 67,\n",
       " 68,\n",
       " 73,\n",
       " 74,\n",
       " 75,\n",
       " 76,\n",
       " 77,\n",
       " 78,\n",
       " 79,\n",
       " 80,\n",
       " 81,\n",
       " 82,\n",
       " 83,\n",
       " 84,\n",
       " 85,\n",
       " 86]"
      ]
     },
     "execution_count": 48,
     "metadata": {},
     "output_type": "execute_result"
    }
   ],
   "source": [
    "[i+1 for i in comm0]"
   ]
  },
  {
   "cell_type": "code",
   "execution_count": 50,
   "id": "337e36b0",
   "metadata": {
    "ExecuteTime": {
     "end_time": "2021-12-17T13:08:22.429905Z",
     "start_time": "2021-12-17T13:08:22.404480Z"
    }
   },
   "outputs": [
    {
     "data": {
      "text/html": [
       "<div>\n",
       "<style scoped>\n",
       "    .dataframe tbody tr th:only-of-type {\n",
       "        vertical-align: middle;\n",
       "    }\n",
       "\n",
       "    .dataframe tbody tr th {\n",
       "        vertical-align: top;\n",
       "    }\n",
       "\n",
       "    .dataframe thead th {\n",
       "        text-align: right;\n",
       "    }\n",
       "</style>\n",
       "<table border=\"1\" class=\"dataframe\">\n",
       "  <thead>\n",
       "    <tr style=\"text-align: right;\">\n",
       "      <th></th>\n",
       "      <th>0</th>\n",
       "      <th>1</th>\n",
       "      <th>2</th>\n",
       "      <th>3</th>\n",
       "      <th>4</th>\n",
       "      <th>5</th>\n",
       "      <th>6</th>\n",
       "      <th>7</th>\n",
       "      <th>8</th>\n",
       "      <th>9</th>\n",
       "      <th>...</th>\n",
       "      <th>20</th>\n",
       "      <th>21</th>\n",
       "      <th>22</th>\n",
       "      <th>23</th>\n",
       "      <th>24</th>\n",
       "      <th>25</th>\n",
       "      <th>26</th>\n",
       "      <th>27</th>\n",
       "      <th>28</th>\n",
       "      <th>29</th>\n",
       "    </tr>\n",
       "  </thead>\n",
       "  <tbody>\n",
       "    <tr>\n",
       "      <th>0</th>\n",
       "      <td>1</td>\n",
       "      <td>2</td>\n",
       "      <td>7</td>\n",
       "      <td>8</td>\n",
       "      <td>9</td>\n",
       "      <td>10</td>\n",
       "      <td>13</td>\n",
       "      <td>14</td>\n",
       "      <td>15</td>\n",
       "      <td>16</td>\n",
       "      <td>...</td>\n",
       "      <td>77</td>\n",
       "      <td>78</td>\n",
       "      <td>79</td>\n",
       "      <td>80</td>\n",
       "      <td>81</td>\n",
       "      <td>82</td>\n",
       "      <td>83</td>\n",
       "      <td>84</td>\n",
       "      <td>85</td>\n",
       "      <td>86</td>\n",
       "    </tr>\n",
       "  </tbody>\n",
       "</table>\n",
       "<p>1 rows × 30 columns</p>\n",
       "</div>"
      ],
      "text/plain": [
       "   0   1   2   3   4   5   6   7   8   9   ...  20  21  22  23  24  25  26  \\\n",
       "0   1   2   7   8   9  10  13  14  15  16  ...  77  78  79  80  81  82  83   \n",
       "\n",
       "   27  28  29  \n",
       "0  84  85  86  \n",
       "\n",
       "[1 rows x 30 columns]"
      ]
     },
     "execution_count": 50,
     "metadata": {},
     "output_type": "execute_result"
    }
   ],
   "source": [
    "pd.DataFrame([i+1 for i in comm0]).T"
   ]
  },
  {
   "cell_type": "code",
   "execution_count": 67,
   "id": "e3979090",
   "metadata": {
    "ExecuteTime": {
     "end_time": "2021-12-17T13:41:56.091447Z",
     "start_time": "2021-12-17T13:41:56.085128Z"
    }
   },
   "outputs": [
    {
     "data": {
      "text/html": [
       "<div>\n",
       "<style scoped>\n",
       "    .dataframe tbody tr th:only-of-type {\n",
       "        vertical-align: middle;\n",
       "    }\n",
       "\n",
       "    .dataframe tbody tr th {\n",
       "        vertical-align: top;\n",
       "    }\n",
       "\n",
       "    .dataframe thead th {\n",
       "        text-align: right;\n",
       "    }\n",
       "</style>\n",
       "<table border=\"1\" class=\"dataframe\">\n",
       "  <thead>\n",
       "    <tr style=\"text-align: right;\">\n",
       "      <th></th>\n",
       "      <th>0</th>\n",
       "      <th>1</th>\n",
       "      <th>2</th>\n",
       "      <th>3</th>\n",
       "      <th>4</th>\n",
       "      <th>5</th>\n",
       "      <th>6</th>\n",
       "      <th>7</th>\n",
       "      <th>8</th>\n",
       "      <th>9</th>\n",
       "      <th>10</th>\n",
       "      <th>11</th>\n",
       "      <th>12</th>\n",
       "      <th>13</th>\n",
       "      <th>14</th>\n",
       "      <th>15</th>\n",
       "      <th>16</th>\n",
       "      <th>17</th>\n",
       "    </tr>\n",
       "  </thead>\n",
       "  <tbody>\n",
       "    <tr>\n",
       "      <th>0</th>\n",
       "      <td>3</td>\n",
       "      <td>4</td>\n",
       "      <td>5</td>\n",
       "      <td>6</td>\n",
       "      <td>19</td>\n",
       "      <td>20</td>\n",
       "      <td>35</td>\n",
       "      <td>36</td>\n",
       "      <td>37</td>\n",
       "      <td>38</td>\n",
       "      <td>39</td>\n",
       "      <td>40</td>\n",
       "      <td>65</td>\n",
       "      <td>66</td>\n",
       "      <td>69</td>\n",
       "      <td>70</td>\n",
       "      <td>71</td>\n",
       "      <td>72</td>\n",
       "    </tr>\n",
       "  </tbody>\n",
       "</table>\n",
       "</div>"
      ],
      "text/plain": [
       "   0   1   2   3   4   5   6   7   8   9   10  11  12  13  14  15  16  17\n",
       "0   3   4   5   6  19  20  35  36  37  38  39  40  65  66  69  70  71  72"
      ]
     },
     "execution_count": 67,
     "metadata": {},
     "output_type": "execute_result"
    }
   ],
   "source": [
    "pd.DataFrame([i+1 for i in comm1]).T"
   ]
  },
  {
   "cell_type": "code",
   "execution_count": 51,
   "id": "fbea7fe1",
   "metadata": {
    "ExecuteTime": {
     "end_time": "2021-12-17T13:08:37.884385Z",
     "start_time": "2021-12-17T13:08:37.876734Z"
    }
   },
   "outputs": [
    {
     "data": {
      "text/plain": [
       "[1,\n",
       " 2,\n",
       " 7,\n",
       " 8,\n",
       " 9,\n",
       " 10,\n",
       " 13,\n",
       " 14,\n",
       " 15,\n",
       " 16,\n",
       " 33,\n",
       " 34,\n",
       " 61,\n",
       " 62,\n",
       " 67,\n",
       " 68,\n",
       " 73,\n",
       " 74,\n",
       " 75,\n",
       " 76,\n",
       " 77,\n",
       " 78,\n",
       " 79,\n",
       " 80,\n",
       " 81,\n",
       " 82,\n",
       " 83,\n",
       " 84,\n",
       " 85,\n",
       " 86]"
      ]
     },
     "execution_count": 51,
     "metadata": {},
     "output_type": "execute_result"
    }
   ],
   "source": [
    "a=[i+1 for i in comm0]\n",
    "a"
   ]
  },
  {
   "cell_type": "code",
   "execution_count": 53,
   "id": "9268bb51",
   "metadata": {
    "ExecuteTime": {
     "end_time": "2021-12-17T13:10:10.829590Z",
     "start_time": "2021-12-17T13:10:10.824333Z"
    }
   },
   "outputs": [
    {
     "name": "stdout",
     "output_type": "stream",
     "text": [
      "1 2 7 8 9 10 13 14 15 16 33 34 61 62 67 68 73 74 75 76 77 78 79 80 81 82 83 84 85 86 "
     ]
    }
   ],
   "source": [
    "for i in a:\n",
    "    print(i,end=' ')"
   ]
  },
  {
   "cell_type": "markdown",
   "id": "71d89796",
   "metadata": {},
   "source": [
    "HC组0号社团集中在中央前回、岛盖部&三角部额下回、中央沟盖、补充运动区、脑岛、中央后回、缘上回、中央旁小叶、尾状核、豆壳状核、丘脑、颞横回、颞上回"
   ]
  },
  {
   "cell_type": "code",
   "execution_count": 54,
   "id": "b01c81da",
   "metadata": {
    "ExecuteTime": {
     "end_time": "2021-12-17T13:10:23.325059Z",
     "start_time": "2021-12-17T13:10:23.320473Z"
    }
   },
   "outputs": [],
   "source": [
    "b = [i+1 for i in get_key(partition_scz,1)]"
   ]
  },
  {
   "cell_type": "code",
   "execution_count": 55,
   "id": "bb8b5df2",
   "metadata": {
    "ExecuteTime": {
     "end_time": "2021-12-17T13:10:39.178170Z",
     "start_time": "2021-12-17T13:10:39.172747Z"
    }
   },
   "outputs": [
    {
     "name": "stdout",
     "output_type": "stream",
     "text": [
      "3 4 5 6 11 12 17 18 19 20 21 22 23 24 25 26 27 28 29 30 31 32 35 36 39 40 65 66 69 70 89 90 91 92 93 "
     ]
    }
   ],
   "source": [
    "for i in b:\n",
    "    print(i,end=' ')"
   ]
  },
  {
   "cell_type": "markdown",
   "id": "5fca96a7",
   "metadata": {},
   "source": [
    "1号社团主要是额上回、额中回、眶部额下回、嗅皮质、眶额皮层、扣带回、角回、颞中回、颞下回"
   ]
  },
  {
   "cell_type": "code",
   "execution_count": 52,
   "id": "f480a3cd",
   "metadata": {
    "ExecuteTime": {
     "end_time": "2021-12-15T10:54:56.478031Z",
     "start_time": "2021-12-15T10:54:56.470654Z"
    }
   },
   "outputs": [
    {
     "data": {
      "text/plain": [
       "[41, 42, 43, 44, 45, 46, 87, 88]"
      ]
     },
     "execution_count": 52,
     "metadata": {},
     "output_type": "execute_result"
    }
   ],
   "source": [
    "[i+1 for i in get_key(partition_scz,2)]"
   ]
  },
  {
   "cell_type": "markdown",
   "id": "fb7fdda7",
   "metadata": {},
   "source": [
    "2号社团主要是海马、海马旁回、杏仁核、颞极颞上回"
   ]
  },
  {
   "cell_type": "code",
   "execution_count": 54,
   "id": "489425fc",
   "metadata": {
    "ExecuteTime": {
     "end_time": "2021-12-15T10:59:11.556921Z",
     "start_time": "2021-12-15T10:59:11.549728Z"
    }
   },
   "outputs": [
    {
     "data": {
      "text/plain": [
       "[47, 48, 49, 50, 51, 52, 53, 54, 55, 56, 57, 58, 59, 60, 63, 64, 71, 72, 94]"
      ]
     },
     "execution_count": 54,
     "metadata": {},
     "output_type": "execute_result"
    }
   ],
   "source": [
    "[i+1 for i in get_key(partition_scz,3)]"
   ]
  },
  {
   "cell_type": "markdown",
   "id": "fca9d8fb",
   "metadata": {},
   "source": [
    "3号社团主要是距状裂周围皮层、楔叶、楔前叶、舌回、枕回、梭状回、顶上回"
   ]
  },
  {
   "cell_type": "code",
   "execution_count": 43,
   "id": "dff916de",
   "metadata": {
    "ExecuteTime": {
     "end_time": "2021-12-17T13:07:49.808756Z",
     "start_time": "2021-12-17T13:07:49.788088Z"
    },
    "scrolled": true
   },
   "outputs": [
    {
     "data": {
      "text/html": [
       "<div>\n",
       "<style scoped>\n",
       "    .dataframe tbody tr th:only-of-type {\n",
       "        vertical-align: middle;\n",
       "    }\n",
       "\n",
       "    .dataframe tbody tr th {\n",
       "        vertical-align: top;\n",
       "    }\n",
       "\n",
       "    .dataframe thead th {\n",
       "        text-align: right;\n",
       "    }\n",
       "</style>\n",
       "<table border=\"1\" class=\"dataframe\">\n",
       "  <thead>\n",
       "    <tr style=\"text-align: right;\">\n",
       "      <th></th>\n",
       "      <th>0</th>\n",
       "      <th>1</th>\n",
       "    </tr>\n",
       "  </thead>\n",
       "  <tbody>\n",
       "    <tr>\n",
       "      <th>10</th>\n",
       "      <td>2</td>\n",
       "      <td>1</td>\n",
       "    </tr>\n",
       "    <tr>\n",
       "      <th>11</th>\n",
       "      <td>2</td>\n",
       "      <td>1</td>\n",
       "    </tr>\n",
       "    <tr>\n",
       "      <th>16</th>\n",
       "      <td>2</td>\n",
       "      <td>1</td>\n",
       "    </tr>\n",
       "    <tr>\n",
       "      <th>17</th>\n",
       "      <td>2</td>\n",
       "      <td>1</td>\n",
       "    </tr>\n",
       "    <tr>\n",
       "      <th>20</th>\n",
       "      <td>2</td>\n",
       "      <td>1</td>\n",
       "    </tr>\n",
       "    <tr>\n",
       "      <th>21</th>\n",
       "      <td>2</td>\n",
       "      <td>1</td>\n",
       "    </tr>\n",
       "    <tr>\n",
       "      <th>22</th>\n",
       "      <td>2</td>\n",
       "      <td>1</td>\n",
       "    </tr>\n",
       "    <tr>\n",
       "      <th>23</th>\n",
       "      <td>2</td>\n",
       "      <td>1</td>\n",
       "    </tr>\n",
       "    <tr>\n",
       "      <th>24</th>\n",
       "      <td>2</td>\n",
       "      <td>1</td>\n",
       "    </tr>\n",
       "    <tr>\n",
       "      <th>25</th>\n",
       "      <td>2</td>\n",
       "      <td>1</td>\n",
       "    </tr>\n",
       "    <tr>\n",
       "      <th>26</th>\n",
       "      <td>2</td>\n",
       "      <td>1</td>\n",
       "    </tr>\n",
       "    <tr>\n",
       "      <th>27</th>\n",
       "      <td>2</td>\n",
       "      <td>1</td>\n",
       "    </tr>\n",
       "    <tr>\n",
       "      <th>28</th>\n",
       "      <td>2</td>\n",
       "      <td>1</td>\n",
       "    </tr>\n",
       "    <tr>\n",
       "      <th>29</th>\n",
       "      <td>2</td>\n",
       "      <td>1</td>\n",
       "    </tr>\n",
       "    <tr>\n",
       "      <th>30</th>\n",
       "      <td>2</td>\n",
       "      <td>1</td>\n",
       "    </tr>\n",
       "    <tr>\n",
       "      <th>31</th>\n",
       "      <td>2</td>\n",
       "      <td>1</td>\n",
       "    </tr>\n",
       "    <tr>\n",
       "      <th>36</th>\n",
       "      <td>1</td>\n",
       "      <td>0</td>\n",
       "    </tr>\n",
       "    <tr>\n",
       "      <th>37</th>\n",
       "      <td>1</td>\n",
       "      <td>0</td>\n",
       "    </tr>\n",
       "    <tr>\n",
       "      <th>70</th>\n",
       "      <td>1</td>\n",
       "      <td>3</td>\n",
       "    </tr>\n",
       "    <tr>\n",
       "      <th>71</th>\n",
       "      <td>1</td>\n",
       "      <td>3</td>\n",
       "    </tr>\n",
       "    <tr>\n",
       "      <th>88</th>\n",
       "      <td>2</td>\n",
       "      <td>1</td>\n",
       "    </tr>\n",
       "    <tr>\n",
       "      <th>89</th>\n",
       "      <td>2</td>\n",
       "      <td>1</td>\n",
       "    </tr>\n",
       "    <tr>\n",
       "      <th>90</th>\n",
       "      <td>2</td>\n",
       "      <td>1</td>\n",
       "    </tr>\n",
       "    <tr>\n",
       "      <th>91</th>\n",
       "      <td>2</td>\n",
       "      <td>1</td>\n",
       "    </tr>\n",
       "    <tr>\n",
       "      <th>92</th>\n",
       "      <td>2</td>\n",
       "      <td>1</td>\n",
       "    </tr>\n",
       "  </tbody>\n",
       "</table>\n",
       "</div>"
      ],
      "text/plain": [
       "    0  1\n",
       "10  2  1\n",
       "11  2  1\n",
       "16  2  1\n",
       "17  2  1\n",
       "20  2  1\n",
       "21  2  1\n",
       "22  2  1\n",
       "23  2  1\n",
       "24  2  1\n",
       "25  2  1\n",
       "26  2  1\n",
       "27  2  1\n",
       "28  2  1\n",
       "29  2  1\n",
       "30  2  1\n",
       "31  2  1\n",
       "36  1  0\n",
       "37  1  0\n",
       "70  1  3\n",
       "71  1  3\n",
       "88  2  1\n",
       "89  2  1\n",
       "90  2  1\n",
       "91  2  1\n",
       "92  2  1"
      ]
     },
     "execution_count": 43,
     "metadata": {},
     "output_type": "execute_result"
    }
   ],
   "source": [
    "comm[comm[0]!=comm[1]]"
   ]
  },
  {
   "cell_type": "code",
   "execution_count": 46,
   "id": "6606ecce",
   "metadata": {
    "ExecuteTime": {
     "end_time": "2021-12-17T13:08:07.805649Z",
     "start_time": "2021-12-17T13:08:07.800184Z"
    }
   },
   "outputs": [],
   "source": [
    "#取特定值的key\n",
    "\n",
    "def get_key (dict, value):\n",
    "    return [k for k, v in dict.items() if v == value]\n"
   ]
  },
  {
   "cell_type": "code",
   "execution_count": 110,
   "id": "039df70e",
   "metadata": {
    "ExecuteTime": {
     "end_time": "2021-12-14T13:49:38.439048Z",
     "start_time": "2021-12-14T13:49:38.420307Z"
    }
   },
   "outputs": [],
   "source": [
    "# 计算函数主体\n",
    "\n",
    "def comm_dFC(data,window,partition,*,stride = 0,roi = 0):\n",
    "    \"\"\"\n",
    "    ***********parameters*************\n",
    "    data: timeseries of fMRI,each columns match a specific region\n",
    "    \n",
    "    window: window length\n",
    "    stride: step of each move\n",
    "    roi: number of region of interest,start from 1, if 0 is received, return all\n",
    "    **********************************\n",
    "    \"\"\"\n",
    "    \n",
    "    \n",
    "    if not stride: # stride为0 无重叠滑窗\n",
    "        stride = window\n",
    "        \n",
    "    # 计算每个窗口下的FC矩阵\n",
    "    i = 0\n",
    "    fclist=[] # 每个窗口下的FC矩阵列表\n",
    "    while (i+window) < len(data)-1:\n",
    "        fc = np.corrcoef(data[i:i+window],rowvar=False)\n",
    "        fclist.append(fc)\n",
    "        i += stride\n",
    "    \n",
    "    # 计算动态变化性\n",
    "    corlist=[] # 每个脑区的列表\n",
    "    # 对每个脑区循环\n",
    "    for k in range(0,data.shape[1]):\n",
    "        corarray = [] #所有排列组合列表\n",
    "        for i in range(1,len(fclist)):\n",
    "            for j in range(0,i):\n",
    "                cor = [] #每个社团的相关性\n",
    "                for c in range(0,max(partition.values())+1):\n",
    "                    c_idx = get_key(partition,c)\n",
    "                    cor_c = pd.Series(fclist[i][k][c_idx]).corr(pd.Series(fclist[j][k][c_idx]))\n",
    "                    # coarray--(1*(n(n-1)/2),n=window length)\n",
    "                    cor.append(cor_c)\n",
    "                corarray.append(cor)\n",
    "        Vk = 1-np.mean(corarray,axis=0)\n",
    "        corlist.append(Vk)\n",
    "    \n",
    "    if roi:\n",
    "        return corlist[roi-1]\n",
    "    else:\n",
    "        return corlist"
   ]
  },
  {
   "cell_type": "code",
   "execution_count": 111,
   "id": "37309a64",
   "metadata": {
    "ExecuteTime": {
     "end_time": "2021-12-14T15:04:42.215093Z",
     "start_time": "2021-12-14T13:49:40.788370Z"
    }
   },
   "outputs": [],
   "source": [
    "var_comm_scz=[]\n",
    "for i in range(0,154):\n",
    "    var_comm_scz.append(comm_dFC(pd.DataFrame(fmri[data[i][0]]).T,10,partition_scz))"
   ]
  },
  {
   "cell_type": "code",
   "execution_count": 112,
   "id": "0dc544a9",
   "metadata": {
    "ExecuteTime": {
     "end_time": "2021-12-14T15:10:53.683196Z",
     "start_time": "2021-12-14T15:04:43.940816Z"
    },
    "code_folding": []
   },
   "outputs": [
    {
     "ename": "KeyboardInterrupt",
     "evalue": "",
     "output_type": "error",
     "traceback": [
      "\u001b[0;31m---------------------------------------------------------------------------\u001b[0m",
      "\u001b[0;31mKeyboardInterrupt\u001b[0m                         Traceback (most recent call last)",
      "\u001b[0;32m/var/folders/1w/89cpzhkx6_n9jmj5sxns2xq80000gn/T/ipykernel_10713/3040414006.py\u001b[0m in \u001b[0;36m<module>\u001b[0;34m\u001b[0m\n\u001b[1;32m      1\u001b[0m \u001b[0mvar_comm_hc\u001b[0m\u001b[0;34m=\u001b[0m\u001b[0;34m[\u001b[0m\u001b[0;34m]\u001b[0m\u001b[0;34m\u001b[0m\u001b[0;34m\u001b[0m\u001b[0m\n\u001b[1;32m      2\u001b[0m \u001b[0;32mfor\u001b[0m \u001b[0mi\u001b[0m \u001b[0;32min\u001b[0m \u001b[0mrange\u001b[0m\u001b[0;34m(\u001b[0m\u001b[0;36m154\u001b[0m\u001b[0;34m,\u001b[0m\u001b[0;36m266\u001b[0m\u001b[0;34m)\u001b[0m\u001b[0;34m:\u001b[0m\u001b[0;34m\u001b[0m\u001b[0;34m\u001b[0m\u001b[0m\n\u001b[0;32m----> 3\u001b[0;31m     \u001b[0mvar_comm_hc\u001b[0m\u001b[0;34m.\u001b[0m\u001b[0mappend\u001b[0m\u001b[0;34m(\u001b[0m\u001b[0mcomm_dFC\u001b[0m\u001b[0;34m(\u001b[0m\u001b[0mpd\u001b[0m\u001b[0;34m.\u001b[0m\u001b[0mDataFrame\u001b[0m\u001b[0;34m(\u001b[0m\u001b[0mfmri\u001b[0m\u001b[0;34m[\u001b[0m\u001b[0mdata\u001b[0m\u001b[0;34m[\u001b[0m\u001b[0mi\u001b[0m\u001b[0;34m]\u001b[0m\u001b[0;34m[\u001b[0m\u001b[0;36m0\u001b[0m\u001b[0;34m]\u001b[0m\u001b[0;34m]\u001b[0m\u001b[0;34m)\u001b[0m\u001b[0;34m.\u001b[0m\u001b[0mT\u001b[0m\u001b[0;34m,\u001b[0m\u001b[0;36m10\u001b[0m\u001b[0;34m,\u001b[0m\u001b[0mpartition_hc\u001b[0m\u001b[0;34m)\u001b[0m\u001b[0;34m)\u001b[0m\u001b[0;34m\u001b[0m\u001b[0;34m\u001b[0m\u001b[0m\n\u001b[0m",
      "\u001b[0;32m/var/folders/1w/89cpzhkx6_n9jmj5sxns2xq80000gn/T/ipykernel_10713/3950658099.py\u001b[0m in \u001b[0;36mcomm_dFC\u001b[0;34m(data, window, partition, stride, roi)\u001b[0m\n\u001b[1;32m     34\u001b[0m                 \u001b[0;32mfor\u001b[0m \u001b[0mc\u001b[0m \u001b[0;32min\u001b[0m \u001b[0mrange\u001b[0m\u001b[0;34m(\u001b[0m\u001b[0;36m0\u001b[0m\u001b[0;34m,\u001b[0m\u001b[0mmax\u001b[0m\u001b[0;34m(\u001b[0m\u001b[0mpartition\u001b[0m\u001b[0;34m.\u001b[0m\u001b[0mvalues\u001b[0m\u001b[0;34m(\u001b[0m\u001b[0;34m)\u001b[0m\u001b[0;34m)\u001b[0m\u001b[0;34m+\u001b[0m\u001b[0;36m1\u001b[0m\u001b[0;34m)\u001b[0m\u001b[0;34m:\u001b[0m\u001b[0;34m\u001b[0m\u001b[0;34m\u001b[0m\u001b[0m\n\u001b[1;32m     35\u001b[0m                     \u001b[0mc_idx\u001b[0m \u001b[0;34m=\u001b[0m \u001b[0mget_key\u001b[0m\u001b[0;34m(\u001b[0m\u001b[0mpartition\u001b[0m\u001b[0;34m,\u001b[0m\u001b[0mc\u001b[0m\u001b[0;34m)\u001b[0m\u001b[0;34m\u001b[0m\u001b[0;34m\u001b[0m\u001b[0m\n\u001b[0;32m---> 36\u001b[0;31m                     \u001b[0mcor_c\u001b[0m \u001b[0;34m=\u001b[0m \u001b[0mpd\u001b[0m\u001b[0;34m.\u001b[0m\u001b[0mSeries\u001b[0m\u001b[0;34m(\u001b[0m\u001b[0mfclist\u001b[0m\u001b[0;34m[\u001b[0m\u001b[0mi\u001b[0m\u001b[0;34m]\u001b[0m\u001b[0;34m[\u001b[0m\u001b[0mk\u001b[0m\u001b[0;34m]\u001b[0m\u001b[0;34m[\u001b[0m\u001b[0mc_idx\u001b[0m\u001b[0;34m]\u001b[0m\u001b[0;34m)\u001b[0m\u001b[0;34m.\u001b[0m\u001b[0mcorr\u001b[0m\u001b[0;34m(\u001b[0m\u001b[0mpd\u001b[0m\u001b[0;34m.\u001b[0m\u001b[0mSeries\u001b[0m\u001b[0;34m(\u001b[0m\u001b[0mfclist\u001b[0m\u001b[0;34m[\u001b[0m\u001b[0mj\u001b[0m\u001b[0;34m]\u001b[0m\u001b[0;34m[\u001b[0m\u001b[0mk\u001b[0m\u001b[0;34m]\u001b[0m\u001b[0;34m[\u001b[0m\u001b[0mc_idx\u001b[0m\u001b[0;34m]\u001b[0m\u001b[0;34m)\u001b[0m\u001b[0;34m)\u001b[0m\u001b[0;34m\u001b[0m\u001b[0;34m\u001b[0m\u001b[0m\n\u001b[0m\u001b[1;32m     37\u001b[0m                     \u001b[0;31m# coarray--(1*(n(n-1)/2),n=window length)\u001b[0m\u001b[0;34m\u001b[0m\u001b[0;34m\u001b[0m\u001b[0;34m\u001b[0m\u001b[0m\n\u001b[1;32m     38\u001b[0m                     \u001b[0mcor\u001b[0m\u001b[0;34m.\u001b[0m\u001b[0mappend\u001b[0m\u001b[0;34m(\u001b[0m\u001b[0mcor_c\u001b[0m\u001b[0;34m)\u001b[0m\u001b[0;34m\u001b[0m\u001b[0;34m\u001b[0m\u001b[0m\n",
      "\u001b[0;32m/opt/anaconda3/lib/python3.8/site-packages/pandas/core/series.py\u001b[0m in \u001b[0;36mcorr\u001b[0;34m(self, other, method, min_periods)\u001b[0m\n\u001b[1;32m   2506\u001b[0m \u001b[0;34m\u001b[0m\u001b[0m\n\u001b[1;32m   2507\u001b[0m         \u001b[0;32mif\u001b[0m \u001b[0mmethod\u001b[0m \u001b[0;32min\u001b[0m \u001b[0;34m[\u001b[0m\u001b[0;34m\"pearson\"\u001b[0m\u001b[0;34m,\u001b[0m \u001b[0;34m\"spearman\"\u001b[0m\u001b[0;34m,\u001b[0m \u001b[0;34m\"kendall\"\u001b[0m\u001b[0;34m]\u001b[0m \u001b[0;32mor\u001b[0m \u001b[0mcallable\u001b[0m\u001b[0;34m(\u001b[0m\u001b[0mmethod\u001b[0m\u001b[0;34m)\u001b[0m\u001b[0;34m:\u001b[0m\u001b[0;34m\u001b[0m\u001b[0;34m\u001b[0m\u001b[0m\n\u001b[0;32m-> 2508\u001b[0;31m             return nanops.nancorr(\n\u001b[0m\u001b[1;32m   2509\u001b[0m                 \u001b[0mthis\u001b[0m\u001b[0;34m.\u001b[0m\u001b[0mvalues\u001b[0m\u001b[0;34m,\u001b[0m \u001b[0mother\u001b[0m\u001b[0;34m.\u001b[0m\u001b[0mvalues\u001b[0m\u001b[0;34m,\u001b[0m \u001b[0mmethod\u001b[0m\u001b[0;34m=\u001b[0m\u001b[0mmethod\u001b[0m\u001b[0;34m,\u001b[0m \u001b[0mmin_periods\u001b[0m\u001b[0;34m=\u001b[0m\u001b[0mmin_periods\u001b[0m\u001b[0;34m\u001b[0m\u001b[0;34m\u001b[0m\u001b[0m\n\u001b[1;32m   2510\u001b[0m             )\n",
      "\u001b[0;32m/opt/anaconda3/lib/python3.8/site-packages/pandas/core/nanops.py\u001b[0m in \u001b[0;36m_f\u001b[0;34m(*args, **kwargs)\u001b[0m\n\u001b[1;32m     91\u001b[0m             \u001b[0;32mtry\u001b[0m\u001b[0;34m:\u001b[0m\u001b[0;34m\u001b[0m\u001b[0;34m\u001b[0m\u001b[0m\n\u001b[1;32m     92\u001b[0m                 \u001b[0;32mwith\u001b[0m \u001b[0mnp\u001b[0m\u001b[0;34m.\u001b[0m\u001b[0merrstate\u001b[0m\u001b[0;34m(\u001b[0m\u001b[0minvalid\u001b[0m\u001b[0;34m=\u001b[0m\u001b[0;34m\"ignore\"\u001b[0m\u001b[0;34m)\u001b[0m\u001b[0;34m:\u001b[0m\u001b[0;34m\u001b[0m\u001b[0;34m\u001b[0m\u001b[0m\n\u001b[0;32m---> 93\u001b[0;31m                     \u001b[0;32mreturn\u001b[0m \u001b[0mf\u001b[0m\u001b[0;34m(\u001b[0m\u001b[0;34m*\u001b[0m\u001b[0margs\u001b[0m\u001b[0;34m,\u001b[0m \u001b[0;34m**\u001b[0m\u001b[0mkwargs\u001b[0m\u001b[0;34m)\u001b[0m\u001b[0;34m\u001b[0m\u001b[0;34m\u001b[0m\u001b[0m\n\u001b[0m\u001b[1;32m     94\u001b[0m             \u001b[0;32mexcept\u001b[0m \u001b[0mValueError\u001b[0m \u001b[0;32mas\u001b[0m \u001b[0me\u001b[0m\u001b[0;34m:\u001b[0m\u001b[0;34m\u001b[0m\u001b[0;34m\u001b[0m\u001b[0m\n\u001b[1;32m     95\u001b[0m                 \u001b[0;31m# we want to transform an object array\u001b[0m\u001b[0;34m\u001b[0m\u001b[0;34m\u001b[0m\u001b[0;34m\u001b[0m\u001b[0m\n",
      "\u001b[0;32m/opt/anaconda3/lib/python3.8/site-packages/pandas/core/nanops.py\u001b[0m in \u001b[0;36mnancorr\u001b[0;34m(a, b, method, min_periods)\u001b[0m\n\u001b[1;32m   1524\u001b[0m \u001b[0;34m\u001b[0m\u001b[0m\n\u001b[1;32m   1525\u001b[0m     \u001b[0mf\u001b[0m \u001b[0;34m=\u001b[0m \u001b[0mget_corr_func\u001b[0m\u001b[0;34m(\u001b[0m\u001b[0mmethod\u001b[0m\u001b[0;34m)\u001b[0m\u001b[0;34m\u001b[0m\u001b[0;34m\u001b[0m\u001b[0m\n\u001b[0;32m-> 1526\u001b[0;31m     \u001b[0;32mreturn\u001b[0m \u001b[0mf\u001b[0m\u001b[0;34m(\u001b[0m\u001b[0ma\u001b[0m\u001b[0;34m,\u001b[0m \u001b[0mb\u001b[0m\u001b[0;34m)\u001b[0m\u001b[0;34m\u001b[0m\u001b[0;34m\u001b[0m\u001b[0m\n\u001b[0m\u001b[1;32m   1527\u001b[0m \u001b[0;34m\u001b[0m\u001b[0m\n\u001b[1;32m   1528\u001b[0m \u001b[0;34m\u001b[0m\u001b[0m\n",
      "\u001b[0;32m/opt/anaconda3/lib/python3.8/site-packages/pandas/core/nanops.py\u001b[0m in \u001b[0;36mfunc\u001b[0;34m(a, b)\u001b[0m\n\u001b[1;32m   1545\u001b[0m \u001b[0;34m\u001b[0m\u001b[0m\n\u001b[1;32m   1546\u001b[0m         \u001b[0;32mdef\u001b[0m \u001b[0mfunc\u001b[0m\u001b[0;34m(\u001b[0m\u001b[0ma\u001b[0m\u001b[0;34m,\u001b[0m \u001b[0mb\u001b[0m\u001b[0;34m)\u001b[0m\u001b[0;34m:\u001b[0m\u001b[0;34m\u001b[0m\u001b[0;34m\u001b[0m\u001b[0m\n\u001b[0;32m-> 1547\u001b[0;31m             \u001b[0;32mreturn\u001b[0m \u001b[0mnp\u001b[0m\u001b[0;34m.\u001b[0m\u001b[0mcorrcoef\u001b[0m\u001b[0;34m(\u001b[0m\u001b[0ma\u001b[0m\u001b[0;34m,\u001b[0m \u001b[0mb\u001b[0m\u001b[0;34m)\u001b[0m\u001b[0;34m[\u001b[0m\u001b[0;36m0\u001b[0m\u001b[0;34m,\u001b[0m \u001b[0;36m1\u001b[0m\u001b[0;34m]\u001b[0m\u001b[0;34m\u001b[0m\u001b[0;34m\u001b[0m\u001b[0m\n\u001b[0m\u001b[1;32m   1548\u001b[0m \u001b[0;34m\u001b[0m\u001b[0m\n\u001b[1;32m   1549\u001b[0m         \u001b[0;32mreturn\u001b[0m \u001b[0mfunc\u001b[0m\u001b[0;34m\u001b[0m\u001b[0;34m\u001b[0m\u001b[0m\n",
      "\u001b[0;32m<__array_function__ internals>\u001b[0m in \u001b[0;36mcorrcoef\u001b[0;34m(*args, **kwargs)\u001b[0m\n",
      "\u001b[0;32m/opt/anaconda3/lib/python3.8/site-packages/numpy/lib/function_base.py\u001b[0m in \u001b[0;36mcorrcoef\u001b[0;34m(x, y, rowvar, bias, ddof, dtype)\u001b[0m\n\u001b[1;32m   2632\u001b[0m         warnings.warn('bias and ddof have no effect and are deprecated',\n\u001b[1;32m   2633\u001b[0m                       DeprecationWarning, stacklevel=3)\n\u001b[0;32m-> 2634\u001b[0;31m     \u001b[0mc\u001b[0m \u001b[0;34m=\u001b[0m \u001b[0mcov\u001b[0m\u001b[0;34m(\u001b[0m\u001b[0mx\u001b[0m\u001b[0;34m,\u001b[0m \u001b[0my\u001b[0m\u001b[0;34m,\u001b[0m \u001b[0mrowvar\u001b[0m\u001b[0;34m,\u001b[0m \u001b[0mdtype\u001b[0m\u001b[0;34m=\u001b[0m\u001b[0mdtype\u001b[0m\u001b[0;34m)\u001b[0m\u001b[0;34m\u001b[0m\u001b[0;34m\u001b[0m\u001b[0m\n\u001b[0m\u001b[1;32m   2635\u001b[0m     \u001b[0;32mtry\u001b[0m\u001b[0;34m:\u001b[0m\u001b[0;34m\u001b[0m\u001b[0;34m\u001b[0m\u001b[0m\n\u001b[1;32m   2636\u001b[0m         \u001b[0md\u001b[0m \u001b[0;34m=\u001b[0m \u001b[0mdiag\u001b[0m\u001b[0;34m(\u001b[0m\u001b[0mc\u001b[0m\u001b[0;34m)\u001b[0m\u001b[0;34m\u001b[0m\u001b[0;34m\u001b[0m\u001b[0m\n",
      "\u001b[0;32m<__array_function__ internals>\u001b[0m in \u001b[0;36mcov\u001b[0;34m(*args, **kwargs)\u001b[0m\n",
      "\u001b[0;32m/opt/anaconda3/lib/python3.8/site-packages/numpy/lib/function_base.py\u001b[0m in \u001b[0;36mcov\u001b[0;34m(m, y, rowvar, bias, ddof, fweights, aweights, dtype)\u001b[0m\n\u001b[1;32m   2415\u001b[0m             \u001b[0mdtype\u001b[0m \u001b[0;34m=\u001b[0m \u001b[0mnp\u001b[0m\u001b[0;34m.\u001b[0m\u001b[0mresult_type\u001b[0m\u001b[0;34m(\u001b[0m\u001b[0mm\u001b[0m\u001b[0;34m,\u001b[0m \u001b[0mnp\u001b[0m\u001b[0;34m.\u001b[0m\u001b[0mfloat64\u001b[0m\u001b[0;34m)\u001b[0m\u001b[0;34m\u001b[0m\u001b[0;34m\u001b[0m\u001b[0m\n\u001b[1;32m   2416\u001b[0m         \u001b[0;32melse\u001b[0m\u001b[0;34m:\u001b[0m\u001b[0;34m\u001b[0m\u001b[0;34m\u001b[0m\u001b[0m\n\u001b[0;32m-> 2417\u001b[0;31m             \u001b[0mdtype\u001b[0m \u001b[0;34m=\u001b[0m \u001b[0mnp\u001b[0m\u001b[0;34m.\u001b[0m\u001b[0mresult_type\u001b[0m\u001b[0;34m(\u001b[0m\u001b[0mm\u001b[0m\u001b[0;34m,\u001b[0m \u001b[0my\u001b[0m\u001b[0;34m,\u001b[0m \u001b[0mnp\u001b[0m\u001b[0;34m.\u001b[0m\u001b[0mfloat64\u001b[0m\u001b[0;34m)\u001b[0m\u001b[0;34m\u001b[0m\u001b[0;34m\u001b[0m\u001b[0m\n\u001b[0m\u001b[1;32m   2418\u001b[0m \u001b[0;34m\u001b[0m\u001b[0m\n\u001b[1;32m   2419\u001b[0m     \u001b[0mX\u001b[0m \u001b[0;34m=\u001b[0m \u001b[0marray\u001b[0m\u001b[0;34m(\u001b[0m\u001b[0mm\u001b[0m\u001b[0;34m,\u001b[0m \u001b[0mndmin\u001b[0m\u001b[0;34m=\u001b[0m\u001b[0;36m2\u001b[0m\u001b[0;34m,\u001b[0m \u001b[0mdtype\u001b[0m\u001b[0;34m=\u001b[0m\u001b[0mdtype\u001b[0m\u001b[0;34m)\u001b[0m\u001b[0;34m\u001b[0m\u001b[0;34m\u001b[0m\u001b[0m\n",
      "\u001b[0;32m<__array_function__ internals>\u001b[0m in \u001b[0;36mresult_type\u001b[0;34m(*args, **kwargs)\u001b[0m\n",
      "\u001b[0;31mKeyboardInterrupt\u001b[0m: "
     ]
    }
   ],
   "source": [
    "var_comm_hc=[]\n",
    "for i in range(154,266):\n",
    "    var_comm_hc.append(comm_dFC(pd.DataFrame(fmri[data[i][0]]).T,10,partition_hc))"
   ]
  },
  {
   "cell_type": "code",
   "execution_count": 123,
   "id": "9869bfb6",
   "metadata": {
    "ExecuteTime": {
     "end_time": "2021-12-14T15:12:41.550094Z",
     "start_time": "2021-12-14T15:12:41.522962Z"
    }
   },
   "outputs": [
    {
     "data": {
      "text/plain": [
       "array([[0.76643628, 0.87558456, 0.91655629, 0.885168  ],\n",
       "       [0.73983689, 0.90316958, 0.9194678 , 0.895266  ],\n",
       "       [0.88469266, 0.81600927, 0.90692488, 0.90427768],\n",
       "       [0.88401197, 0.79500801, 0.91274242, 0.88607856],\n",
       "       [0.8701723 , 0.77700292, 0.92580759, 0.90362599],\n",
       "       [0.86361833, 0.74614996, 0.92127586, 0.89386922],\n",
       "       [0.78071122, 0.82449986, 0.90205854, 0.90406247],\n",
       "       [0.787514  , 0.81097084, 0.90791151, 0.89600939],\n",
       "       [0.78097201, 0.80866925, 0.89104709, 0.91984392],\n",
       "       [0.78177442, 0.82032989, 0.89431819, 0.920953  ],\n",
       "       [0.86161191, 0.77260971, 0.84698991, 0.92533336],\n",
       "       [0.85555557, 0.77919386, 0.8728206 , 0.92609827],\n",
       "       [0.72143238, 0.89421788, 0.9053241 , 0.91044913],\n",
       "       [0.72461646, 0.89183237, 0.90053739, 0.91231694],\n",
       "       [0.79490239, 0.87146581, 0.8749306 , 0.91718806],\n",
       "       [0.78759472, 0.87831814, 0.88944063, 0.91508138],\n",
       "       [0.91867338, 0.78540263, 0.92225341, 0.93247412],\n",
       "       [0.92125859, 0.78365087, 0.92222038, 0.9306135 ],\n",
       "       [0.87536266, 0.76792628, 0.87074528, 0.90390581],\n",
       "       [0.882368  , 0.76580194, 0.88446294, 0.9036757 ],\n",
       "       [0.89570616, 0.73358572, 0.90848421, 0.91358849],\n",
       "       [0.8969343 , 0.75409929, 0.90611838, 0.91116528],\n",
       "       [0.91347559, 0.75377392, 0.91193937, 0.91588887],\n",
       "       [0.92025318, 0.76028054, 0.91980044, 0.91588463],\n",
       "       [0.93236322, 0.7512374 , 0.91926733, 0.93744408],\n",
       "       [0.92962434, 0.75200088, 0.92503393, 0.93259065],\n",
       "       [0.92344461, 0.76061835, 0.92786159, 0.93467724],\n",
       "       [0.92335095, 0.79059262, 0.92738757, 0.92731967],\n",
       "       [0.9074531 , 0.79572869, 0.87296194, 0.93496159],\n",
       "       [0.89751225, 0.81114369, 0.86588928, 0.92366927],\n",
       "       [0.90234504, 0.79162748, 0.90461573, 0.92762208],\n",
       "       [0.90119914, 0.79786699, 0.89252287, 0.91973678],\n",
       "       [0.7810953 , 0.84691358, 0.89844596, 0.92511653],\n",
       "       [0.7723064 , 0.84405711, 0.90062983, 0.92551633],\n",
       "       [0.85941318, 0.76669508, 0.90944604, 0.91924275],\n",
       "       [0.85897055, 0.75944142, 0.90864165, 0.91522511],\n",
       "       [0.79130382, 0.88368226, 0.91322057, 0.8886702 ],\n",
       "       [0.78964605, 0.86227718, 0.91646782, 0.89371921],\n",
       "       [0.8790066 , 0.75227003, 0.92616699, 0.84660807],\n",
       "       [0.87774997, 0.74577676, 0.91913625, 0.83087032],\n",
       "       [0.9032499 , 0.88814923, 0.61923802, 0.90339385],\n",
       "       [0.90930152, 0.89071973, 0.59640126, 0.89932044],\n",
       "       [0.90235965, 0.89516832, 0.59643162, 0.90031575],\n",
       "       [0.89924879, 0.88808113, 0.63689507, 0.88150552],\n",
       "       [0.90693302, 0.89058396, 0.63282578, 0.90537157],\n",
       "       [0.91187662, 0.89120046, 0.62331378, 0.90595682],\n",
       "       [0.8945973 , 0.93078499, 0.91791069, 0.62899419],\n",
       "       [0.8971222 , 0.93286739, 0.91962807, 0.60689629],\n",
       "       [0.88790545, 0.93321283, 0.91528219, 0.61192969],\n",
       "       [0.89038522, 0.9319063 , 0.91335976, 0.61853839],\n",
       "       [0.88999086, 0.9219734 , 0.91935997, 0.6312376 ],\n",
       "       [0.88463621, 0.92172207, 0.9151443 , 0.64357583],\n",
       "       [0.89680096, 0.92741124, 0.91915267, 0.64976261],\n",
       "       [0.90358456, 0.92625807, 0.92992578, 0.66621622],\n",
       "       [0.9032211 , 0.91257268, 0.92547084, 0.69973267],\n",
       "       [0.91243468, 0.91587622, 0.91838166, 0.69825298],\n",
       "       [0.90761184, 0.91684265, 0.94834334, 0.64137223],\n",
       "       [0.91056502, 0.92288944, 0.94595696, 0.65173436],\n",
       "       [0.89459675, 0.90273399, 0.90320289, 0.69130763],\n",
       "       [0.89447971, 0.9040332 , 0.90377569, 0.68402976],\n",
       "       [0.71764998, 0.90516558, 0.92346768, 0.89439722],\n",
       "       [0.71565209, 0.89818308, 0.9237413 , 0.88416774],\n",
       "       [0.87662772, 0.87735724, 0.93474612, 0.74313561],\n",
       "       [0.87928653, 0.86558206, 0.93350202, 0.73311732],\n",
       "       [0.86862748, 0.7699502 , 0.9409987 , 0.85339018],\n",
       "       [0.87745371, 0.74098406, 0.94779952, 0.85228647],\n",
       "       [0.78781388, 0.86460231, 0.87800805, 0.9116096 ],\n",
       "       [0.77522835, 0.84264206, 0.90157944, 0.90409006],\n",
       "       [0.88499951, 0.78613624, 0.9052649 , 0.87976981],\n",
       "       [0.89150076, 0.79883079, 0.92244546, 0.84962484],\n",
       "       [0.8722204 , 0.87906392, 0.90553081, 0.69225423],\n",
       "       [0.86956851, 0.87729508, 0.89537141, 0.69174901],\n",
       "       [0.7256054 , 0.92539593, 0.93956691, 0.91537253],\n",
       "       [0.73318463, 0.92328173, 0.93362298, 0.9147171 ],\n",
       "       [0.75786131, 0.92643883, 0.92445111, 0.94327431],\n",
       "       [0.75545751, 0.9257883 , 0.92818824, 0.93595233],\n",
       "       [0.74982033, 0.92214308, 0.89977666, 0.92792487],\n",
       "       [0.76285169, 0.91847112, 0.89902573, 0.92097881],\n",
       "       [0.76218998, 0.92025792, 0.91782729, 0.92466018],\n",
       "       [0.7540288 , 0.92331989, 0.90672836, 0.92264369],\n",
       "       [0.78995322, 0.91314639, 0.92596356, 0.91375409],\n",
       "       [0.79507618, 0.91448522, 0.92952718, 0.917907  ],\n",
       "       [0.76926399, 0.91778637, 0.92647079, 0.93411307],\n",
       "       [0.75621451, 0.90933739, 0.90562489, 0.92157031],\n",
       "       [0.7585104 , 0.88163278, 0.84301795, 0.91225735],\n",
       "       [0.78977556, 0.86981947, 0.79096067, 0.91144491],\n",
       "       [0.88208905, 0.83685376, 0.59570414, 0.91165762],\n",
       "       [0.85696956, 0.83524814, 0.59846193, 0.90903707],\n",
       "       [0.86971892, 0.79807809, 0.84549299, 0.89756422],\n",
       "       [0.87748072, 0.81583696, 0.8928948 , 0.87735573],\n",
       "       [0.89953349, 0.7701393 , 0.84311027, 0.90831356],\n",
       "       [0.89004006, 0.7693425 , 0.8216239 , 0.90556161],\n",
       "       [0.90687035, 0.82498154, 0.92751001, 0.83490361],\n",
       "       [0.90538987, 0.87070577, 0.91655116, 0.74815123]])"
      ]
     },
     "execution_count": 123,
     "metadata": {},
     "output_type": "execute_result"
    }
   ],
   "source": [
    "mean(var_comm_scz,axis = 0)"
   ]
  },
  {
   "cell_type": "code",
   "execution_count": 43,
   "id": "4e639531",
   "metadata": {
    "ExecuteTime": {
     "end_time": "2021-12-14T00:18:18.911364Z",
     "start_time": "2021-12-14T00:18:18.904870Z"
    }
   },
   "outputs": [
    {
     "data": {
      "text/plain": [
       "154"
      ]
     },
     "execution_count": 43,
     "metadata": {},
     "output_type": "execute_result"
    }
   ],
   "source": [
    "len(var_comm_scz)"
   ]
  },
  {
   "cell_type": "code",
   "execution_count": null,
   "id": "6adc7bb4",
   "metadata": {
    "ExecuteTime": {
     "end_time": "2021-12-14T01:52:03.247497Z",
     "start_time": "2021-12-14T01:52:03.247490Z"
    }
   },
   "outputs": [],
   "source": [
    "var_comm_scz[1]"
   ]
  },
  {
   "cell_type": "code",
   "execution_count": null,
   "id": "98241016",
   "metadata": {},
   "outputs": [],
   "source": [
    "comm1_sz = [x[0] for x in var_comm_scz ]"
   ]
  },
  {
   "cell_type": "code",
   "execution_count": 87,
   "id": "f34974d9",
   "metadata": {
    "ExecuteTime": {
     "end_time": "2021-12-14T12:48:45.976123Z",
     "start_time": "2021-12-14T12:48:45.972048Z"
    }
   },
   "outputs": [],
   "source": [
    "a = [[1,2],[3,4],[5,6]]"
   ]
  },
  {
   "cell_type": "code",
   "execution_count": 55,
   "id": "85a1df3e",
   "metadata": {
    "ExecuteTime": {
     "end_time": "2021-12-14T11:18:58.884449Z",
     "start_time": "2021-12-14T11:18:58.878720Z"
    }
   },
   "outputs": [],
   "source": [
    "a= [1,2,3,4,4,5]\n",
    "b= [3,2,3,4,3,5]"
   ]
  },
  {
   "cell_type": "code",
   "execution_count": 89,
   "id": "75c75e8d",
   "metadata": {
    "ExecuteTime": {
     "end_time": "2021-12-14T12:49:00.220179Z",
     "start_time": "2021-12-14T12:49:00.210679Z"
    }
   },
   "outputs": [
    {
     "data": {
      "text/plain": [
       "array([3., 4.])"
      ]
     },
     "execution_count": 89,
     "metadata": {},
     "output_type": "execute_result"
    }
   ],
   "source": [
    "mean(a,axis=0)"
   ]
  },
  {
   "cell_type": "code",
   "execution_count": 2,
   "id": "edcdca31",
   "metadata": {
    "ExecuteTime": {
     "end_time": "2021-12-17T01:47:34.656129Z",
     "start_time": "2021-12-17T01:47:34.632012Z"
    }
   },
   "outputs": [],
   "source": [
    "scz_commvar = pd.read_csv('/Users/eugene_zh/学术/ITSBI/Code/1st year/ABCD/scz_comm_avgvar.csv',index_col=0)"
   ]
  },
  {
   "cell_type": "code",
   "execution_count": 62,
   "id": "b0a57c17",
   "metadata": {
    "ExecuteTime": {
     "end_time": "2021-12-17T13:24:40.504623Z",
     "start_time": "2021-12-17T13:24:40.481160Z"
    }
   },
   "outputs": [
    {
     "data": {
      "text/html": [
       "<div>\n",
       "<style scoped>\n",
       "    .dataframe tbody tr th:only-of-type {\n",
       "        vertical-align: middle;\n",
       "    }\n",
       "\n",
       "    .dataframe tbody tr th {\n",
       "        vertical-align: top;\n",
       "    }\n",
       "\n",
       "    .dataframe thead th {\n",
       "        text-align: right;\n",
       "    }\n",
       "</style>\n",
       "<table border=\"1\" class=\"dataframe\">\n",
       "  <thead>\n",
       "    <tr style=\"text-align: right;\">\n",
       "      <th></th>\n",
       "      <th>0</th>\n",
       "      <th>1</th>\n",
       "      <th>2</th>\n",
       "      <th>3</th>\n",
       "      <th>4</th>\n",
       "    </tr>\n",
       "  </thead>\n",
       "  <tbody>\n",
       "    <tr>\n",
       "      <th>0</th>\n",
       "      <td>0.766436</td>\n",
       "      <td>0.875585</td>\n",
       "      <td>0.916556</td>\n",
       "      <td>0.885168</td>\n",
       "      <td>0.843214</td>\n",
       "    </tr>\n",
       "    <tr>\n",
       "      <th>1</th>\n",
       "      <td>0.739837</td>\n",
       "      <td>0.903170</td>\n",
       "      <td>0.919468</td>\n",
       "      <td>0.895266</td>\n",
       "      <td>0.818442</td>\n",
       "    </tr>\n",
       "    <tr>\n",
       "      <th>2</th>\n",
       "      <td>0.884693</td>\n",
       "      <td>0.816009</td>\n",
       "      <td>0.906925</td>\n",
       "      <td>0.904278</td>\n",
       "      <td>0.840528</td>\n",
       "    </tr>\n",
       "    <tr>\n",
       "      <th>3</th>\n",
       "      <td>0.884012</td>\n",
       "      <td>0.795008</td>\n",
       "      <td>0.912742</td>\n",
       "      <td>0.886079</td>\n",
       "      <td>0.840448</td>\n",
       "    </tr>\n",
       "    <tr>\n",
       "      <th>4</th>\n",
       "      <td>0.870172</td>\n",
       "      <td>0.777003</td>\n",
       "      <td>0.925808</td>\n",
       "      <td>0.903626</td>\n",
       "      <td>0.834726</td>\n",
       "    </tr>\n",
       "    <tr>\n",
       "      <th>...</th>\n",
       "      <td>...</td>\n",
       "      <td>...</td>\n",
       "      <td>...</td>\n",
       "      <td>...</td>\n",
       "      <td>...</td>\n",
       "    </tr>\n",
       "    <tr>\n",
       "      <th>89</th>\n",
       "      <td>0.877481</td>\n",
       "      <td>0.815837</td>\n",
       "      <td>0.892895</td>\n",
       "      <td>0.877356</td>\n",
       "      <td>0.856469</td>\n",
       "    </tr>\n",
       "    <tr>\n",
       "      <th>90</th>\n",
       "      <td>0.899533</td>\n",
       "      <td>0.770139</td>\n",
       "      <td>0.843110</td>\n",
       "      <td>0.908314</td>\n",
       "      <td>0.790546</td>\n",
       "    </tr>\n",
       "    <tr>\n",
       "      <th>91</th>\n",
       "      <td>0.890040</td>\n",
       "      <td>0.769342</td>\n",
       "      <td>0.821624</td>\n",
       "      <td>0.905562</td>\n",
       "      <td>0.813297</td>\n",
       "    </tr>\n",
       "    <tr>\n",
       "      <th>92</th>\n",
       "      <td>0.906870</td>\n",
       "      <td>0.824982</td>\n",
       "      <td>0.927510</td>\n",
       "      <td>0.834904</td>\n",
       "      <td>0.867276</td>\n",
       "    </tr>\n",
       "    <tr>\n",
       "      <th>93</th>\n",
       "      <td>0.905390</td>\n",
       "      <td>0.870706</td>\n",
       "      <td>0.916551</td>\n",
       "      <td>0.748151</td>\n",
       "      <td>0.854295</td>\n",
       "    </tr>\n",
       "  </tbody>\n",
       "</table>\n",
       "<p>94 rows × 5 columns</p>\n",
       "</div>"
      ],
      "text/plain": [
       "           0         1         2         3         4\n",
       "0   0.766436  0.875585  0.916556  0.885168  0.843214\n",
       "1   0.739837  0.903170  0.919468  0.895266  0.818442\n",
       "2   0.884693  0.816009  0.906925  0.904278  0.840528\n",
       "3   0.884012  0.795008  0.912742  0.886079  0.840448\n",
       "4   0.870172  0.777003  0.925808  0.903626  0.834726\n",
       "..       ...       ...       ...       ...       ...\n",
       "89  0.877481  0.815837  0.892895  0.877356  0.856469\n",
       "90  0.899533  0.770139  0.843110  0.908314  0.790546\n",
       "91  0.890040  0.769342  0.821624  0.905562  0.813297\n",
       "92  0.906870  0.824982  0.927510  0.834904  0.867276\n",
       "93  0.905390  0.870706  0.916551  0.748151  0.854295\n",
       "\n",
       "[94 rows x 5 columns]"
      ]
     },
     "execution_count": 62,
     "metadata": {},
     "output_type": "execute_result"
    }
   ],
   "source": [
    "scz_commvar"
   ]
  },
  {
   "cell_type": "code",
   "execution_count": 72,
   "id": "08e2af6d",
   "metadata": {
    "ExecuteTime": {
     "end_time": "2021-12-18T02:04:21.967883Z",
     "start_time": "2021-12-18T02:04:21.962107Z"
    }
   },
   "outputs": [],
   "source": [
    "scz_commvar['4'] = sz_avg"
   ]
  },
  {
   "cell_type": "code",
   "execution_count": 73,
   "id": "3cda4f5a",
   "metadata": {
    "ExecuteTime": {
     "end_time": "2021-12-18T02:04:23.925262Z",
     "start_time": "2021-12-18T02:04:23.901641Z"
    }
   },
   "outputs": [
    {
     "data": {
      "text/html": [
       "<div>\n",
       "<style scoped>\n",
       "    .dataframe tbody tr th:only-of-type {\n",
       "        vertical-align: middle;\n",
       "    }\n",
       "\n",
       "    .dataframe tbody tr th {\n",
       "        vertical-align: top;\n",
       "    }\n",
       "\n",
       "    .dataframe thead th {\n",
       "        text-align: right;\n",
       "    }\n",
       "</style>\n",
       "<table border=\"1\" class=\"dataframe\">\n",
       "  <thead>\n",
       "    <tr style=\"text-align: right;\">\n",
       "      <th></th>\n",
       "      <th>0</th>\n",
       "      <th>1</th>\n",
       "      <th>2</th>\n",
       "      <th>3</th>\n",
       "      <th>4</th>\n",
       "    </tr>\n",
       "  </thead>\n",
       "  <tbody>\n",
       "    <tr>\n",
       "      <th>0</th>\n",
       "      <td>1.000000</td>\n",
       "      <td>-0.400083</td>\n",
       "      <td>-0.191118</td>\n",
       "      <td>-0.361772</td>\n",
       "      <td>0.004714</td>\n",
       "    </tr>\n",
       "    <tr>\n",
       "      <th>1</th>\n",
       "      <td>-0.400083</td>\n",
       "      <td>1.000000</td>\n",
       "      <td>-0.067128</td>\n",
       "      <td>-0.451555</td>\n",
       "      <td>-0.112653</td>\n",
       "    </tr>\n",
       "    <tr>\n",
       "      <th>2</th>\n",
       "      <td>-0.191118</td>\n",
       "      <td>-0.067128</td>\n",
       "      <td>1.000000</td>\n",
       "      <td>-0.212215</td>\n",
       "      <td>-0.266035</td>\n",
       "    </tr>\n",
       "    <tr>\n",
       "      <th>3</th>\n",
       "      <td>-0.361772</td>\n",
       "      <td>-0.451555</td>\n",
       "      <td>-0.212215</td>\n",
       "      <td>1.000000</td>\n",
       "      <td>0.494520</td>\n",
       "    </tr>\n",
       "    <tr>\n",
       "      <th>4</th>\n",
       "      <td>0.004714</td>\n",
       "      <td>-0.112653</td>\n",
       "      <td>-0.266035</td>\n",
       "      <td>0.494520</td>\n",
       "      <td>1.000000</td>\n",
       "    </tr>\n",
       "  </tbody>\n",
       "</table>\n",
       "</div>"
      ],
      "text/plain": [
       "          0         1         2         3         4\n",
       "0  1.000000 -0.400083 -0.191118 -0.361772  0.004714\n",
       "1 -0.400083  1.000000 -0.067128 -0.451555 -0.112653\n",
       "2 -0.191118 -0.067128  1.000000 -0.212215 -0.266035\n",
       "3 -0.361772 -0.451555 -0.212215  1.000000  0.494520\n",
       "4  0.004714 -0.112653 -0.266035  0.494520  1.000000"
      ]
     },
     "execution_count": 73,
     "metadata": {},
     "output_type": "execute_result"
    }
   ],
   "source": [
    "scz_commvar.corr()"
   ]
  },
  {
   "cell_type": "code",
   "execution_count": 74,
   "id": "ba5f778e",
   "metadata": {
    "ExecuteTime": {
     "end_time": "2021-12-18T02:05:19.783640Z",
     "start_time": "2021-12-18T02:05:19.764425Z"
    }
   },
   "outputs": [],
   "source": [
    "hc_commvar = pd.read_csv('/Users/eugene_zh/学术/ITSBI/Code/1st year/ABCD/hc_comm_avgvar.csv',index_col=0)"
   ]
  },
  {
   "cell_type": "code",
   "execution_count": 76,
   "id": "c95fb5fd",
   "metadata": {
    "ExecuteTime": {
     "end_time": "2021-12-18T02:05:39.445862Z",
     "start_time": "2021-12-18T02:05:39.439929Z"
    }
   },
   "outputs": [],
   "source": [
    "hc_commvar['4']=hc_avg"
   ]
  },
  {
   "cell_type": "code",
   "execution_count": 77,
   "id": "306df9f1",
   "metadata": {
    "ExecuteTime": {
     "end_time": "2021-12-18T02:05:52.372215Z",
     "start_time": "2021-12-18T02:05:52.352821Z"
    }
   },
   "outputs": [
    {
     "data": {
      "text/html": [
       "<div>\n",
       "<style scoped>\n",
       "    .dataframe tbody tr th:only-of-type {\n",
       "        vertical-align: middle;\n",
       "    }\n",
       "\n",
       "    .dataframe tbody tr th {\n",
       "        vertical-align: top;\n",
       "    }\n",
       "\n",
       "    .dataframe thead th {\n",
       "        text-align: right;\n",
       "    }\n",
       "</style>\n",
       "<table border=\"1\" class=\"dataframe\">\n",
       "  <thead>\n",
       "    <tr style=\"text-align: right;\">\n",
       "      <th></th>\n",
       "      <th>0</th>\n",
       "      <th>1</th>\n",
       "      <th>2</th>\n",
       "      <th>3</th>\n",
       "      <th>4</th>\n",
       "    </tr>\n",
       "  </thead>\n",
       "  <tbody>\n",
       "    <tr>\n",
       "      <th>0</th>\n",
       "      <td>1.000000</td>\n",
       "      <td>-0.192842</td>\n",
       "      <td>-0.483400</td>\n",
       "      <td>-0.257731</td>\n",
       "      <td>0.163056</td>\n",
       "    </tr>\n",
       "    <tr>\n",
       "      <th>1</th>\n",
       "      <td>-0.192842</td>\n",
       "      <td>1.000000</td>\n",
       "      <td>-0.172410</td>\n",
       "      <td>-0.254505</td>\n",
       "      <td>-0.052846</td>\n",
       "    </tr>\n",
       "    <tr>\n",
       "      <th>2</th>\n",
       "      <td>-0.483400</td>\n",
       "      <td>-0.172410</td>\n",
       "      <td>1.000000</td>\n",
       "      <td>-0.367583</td>\n",
       "      <td>-0.335964</td>\n",
       "    </tr>\n",
       "    <tr>\n",
       "      <th>3</th>\n",
       "      <td>-0.257731</td>\n",
       "      <td>-0.254505</td>\n",
       "      <td>-0.367583</td>\n",
       "      <td>1.000000</td>\n",
       "      <td>0.545684</td>\n",
       "    </tr>\n",
       "    <tr>\n",
       "      <th>4</th>\n",
       "      <td>0.163056</td>\n",
       "      <td>-0.052846</td>\n",
       "      <td>-0.335964</td>\n",
       "      <td>0.545684</td>\n",
       "      <td>1.000000</td>\n",
       "    </tr>\n",
       "  </tbody>\n",
       "</table>\n",
       "</div>"
      ],
      "text/plain": [
       "          0         1         2         3         4\n",
       "0  1.000000 -0.192842 -0.483400 -0.257731  0.163056\n",
       "1 -0.192842  1.000000 -0.172410 -0.254505 -0.052846\n",
       "2 -0.483400 -0.172410  1.000000 -0.367583 -0.335964\n",
       "3 -0.257731 -0.254505 -0.367583  1.000000  0.545684\n",
       "4  0.163056 -0.052846 -0.335964  0.545684  1.000000"
      ]
     },
     "execution_count": 77,
     "metadata": {},
     "output_type": "execute_result"
    }
   ],
   "source": [
    "hc_commvar.corr()"
   ]
  },
  {
   "cell_type": "code",
   "execution_count": 18,
   "id": "d0996710",
   "metadata": {
    "ExecuteTime": {
     "end_time": "2021-12-17T02:03:25.918298Z",
     "start_time": "2021-12-17T02:03:25.016956Z"
    }
   },
   "outputs": [],
   "source": [
    "import matplotlib.pyplot as plt\n",
    "import seaborn as sns"
   ]
  },
  {
   "cell_type": "code",
   "execution_count": 55,
   "id": "18ebc365",
   "metadata": {
    "ExecuteTime": {
     "end_time": "2021-12-15T11:08:00.301120Z",
     "start_time": "2021-12-15T11:08:00.143612Z"
    }
   },
   "outputs": [
    {
     "data": {
      "text/plain": [
       "Text(0.5, 1.0, 'Schizophrenia Brain Community Variability')"
      ]
     },
     "execution_count": 55,
     "metadata": {},
     "output_type": "execute_result"
    },
    {
     "data": {
      "image/png": "[encoded data removed]",
      "text/plain": [
       "<Figure size 432x288 with 1 Axes>"
      ]
     },
     "metadata": {
      "needs_background": "light"
     },
     "output_type": "display_data"
    }
   ],
   "source": [
    "p = sns.lineplot(data = scz_commvar)\n",
    "p.set_title(\"Schizophrenia Brain Community Variability\")"
   ]
  },
  {
   "cell_type": "code",
   "execution_count": 56,
   "id": "257e3dfd",
   "metadata": {
    "ExecuteTime": {
     "end_time": "2021-12-15T11:10:14.328403Z",
     "start_time": "2021-12-15T11:10:14.173618Z"
    }
   },
   "outputs": [
    {
     "data": {
      "text/plain": [
       "Text(0.5, 1.0, 'Healthy Control Brain Community Variability')"
      ]
     },
     "execution_count": 56,
     "metadata": {},
     "output_type": "execute_result"
    },
    {
     "data": {
      "image/png": "[encoded data removed]",
      "text/plain": [
       "<Figure size 432x288 with 1 Axes>"
      ]
     },
     "metadata": {
      "needs_background": "light"
     },
     "output_type": "display_data"
    }
   ],
   "source": [
    "p = sns.lineplot(data = hc_commvar)\n",
    "p.set_title(\"Healthy Control Brain Community Variability\")"
   ]
  },
  {
   "cell_type": "code",
   "execution_count": 34,
   "id": "c3f65ae9",
   "metadata": {
    "ExecuteTime": {
     "end_time": "2021-12-17T02:15:17.622096Z",
     "start_time": "2021-12-17T02:15:17.345659Z"
    }
   },
   "outputs": [
    {
     "data": {
      "image/png": "[encoded data removed]",
      "text/plain": [
       "<Figure size 432x288 with 2 Axes>"
      ]
     },
     "metadata": {
      "needs_background": "light"
     },
     "output_type": "display_data"
    },
    {
     "data": {
      "text/plain": [
       "<Figure size 7200x7200 with 0 Axes>"
      ]
     },
     "metadata": {},
     "output_type": "display_data"
    }
   ],
   "source": [
    "fig, axes = plt.subplots(2, 1)\n",
    "#fig.subplots_adjust(hspace=0)\n",
    "\n",
    "sns.lineplot(data = scz_commvar, ax = axes[0])\n",
    "sns.lineplot(data = hc_commvar, ax = axes[1])\n",
    "\n",
    "\n",
    "plt.figure(figsize=(100,100))\n",
    "\n",
    "axes[0].set_title(\"Schizophrenia Brain Community Variability\")\n",
    "axes[1].set_title(\"Healthy Control Brain Community Variability\")\n",
    "\n",
    "plt.suptitle(\"Comparison of Variability by Community\")\n",
    "axes[0].legend(bbox_to_anchor=(1.05,0), loc=3, borderaxespad=0)\n",
    "axes[1].legend(bbox_to_anchor=(1.05,0), loc=3, borderaxespad=0)\n",
    "fig.tight_layout()\n"
   ]
  },
  {
   "cell_type": "code",
   "execution_count": null,
   "id": "317a6f6a",
   "metadata": {},
   "outputs": [],
   "source": [
    "# 热力图 结果在一起\n",
    "\n",
    "\n",
    "#搞定了。原来是使用pd.read_csv后在pivot得到的Dataframe会对index按照字母顺序排序。pivot后，用如下代码处理，就好了：\n",
    "\n",
    "flights = pd.read_csv(\"flights.csv\")\n",
    "flights = flights.pivot(\"month\", \"year\", \"passengers\")\n",
    "newIndex  =  ['January','February','March','April','May','June','July','August','September','October','November','December']#手动指定索引\n",
    "flights = flights.reindex(newIndex)\n",
    "sns.heatmap(flights)\n",
    "\n",
    "#不过不知道为啥使用load_dataset命令读入的数据就不会有问题\n",
    "flights = sns.load_dataset(\"flights\")\n",
    "flights = flights.pivot(\"month\", \"year\", \"passengers\")\n",
    "#这里pivot后，就不会对index按照字母排序\n"
   ]
  },
  {
   "cell_type": "code",
   "execution_count": null,
   "id": "e85490b3",
   "metadata": {},
   "outputs": [],
   "source": []
  },
  {
   "cell_type": "code",
   "execution_count": null,
   "id": "84a497a3",
   "metadata": {},
   "outputs": [],
   "source": []
  },
  {
   "cell_type": "code",
   "execution_count": null,
   "id": "5722b637",
   "metadata": {},
   "outputs": [],
   "source": []
  },
  {
   "cell_type": "markdown",
   "id": "7a9128e5",
   "metadata": {},
   "source": [
    "scz data 1 comm dFC"
   ]
  },
  {
   "cell_type": "code",
   "execution_count": 5,
   "id": "bca31e01",
   "metadata": {
    "ExecuteTime": {
     "end_time": "2022-02-06T05:21:57.693002Z",
     "start_time": "2022-02-06T05:21:57.658436Z"
    }
   },
   "outputs": [
    {
     "data": {
      "text/plain": [
       "<HDF5 dataset \"c\": shape (94, 240), type \"<f8\">"
      ]
     },
     "execution_count": 5,
     "metadata": {},
     "output_type": "execute_result"
    }
   ],
   "source": [
    "fmri[data[1][0]]"
   ]
  },
  {
   "cell_type": "code",
   "execution_count": null,
   "id": "a06c067b",
   "metadata": {},
   "outputs": [],
   "source": []
  },
  {
   "cell_type": "code",
   "execution_count": 7,
   "id": "d347f6bd",
   "metadata": {
    "ExecuteTime": {
     "end_time": "2022-02-06T05:23:02.339015Z",
     "start_time": "2022-02-06T05:23:02.290589Z"
    }
   },
   "outputs": [],
   "source": [
    "# 全窗口计算静态FC矩阵\n",
    "fcmlist=[]\n",
    "\n",
    "df = pd.DataFrame(fmri[data[1][0]],).T\n",
    "fcm = df.corr().values\n",
    "fcmlist.append(fcm)"
   ]
  },
  {
   "cell_type": "code",
   "execution_count": 9,
   "id": "b5f3d132",
   "metadata": {
    "ExecuteTime": {
     "end_time": "2022-02-06T07:56:46.979309Z",
     "start_time": "2022-02-06T07:56:46.972437Z"
    }
   },
   "outputs": [
    {
     "data": {
      "text/plain": [
       "[array([[1.        , 0.35927253, 0.44229717, ..., 0.3404821 , 0.73483485,\n",
       "         0.56834701],\n",
       "        [0.35927253, 1.        , 0.08797555, ..., 0.36271757, 0.11463397,\n",
       "         0.03436999],\n",
       "        [0.44229717, 0.08797555, 1.        , ..., 0.49557642, 0.56705113,\n",
       "         0.42694717],\n",
       "        ...,\n",
       "        [0.3404821 , 0.36271757, 0.49557642, ..., 1.        , 0.36413304,\n",
       "         0.50435014],\n",
       "        [0.73483485, 0.11463397, 0.56705113, ..., 0.36413304, 1.        ,\n",
       "         0.79707081],\n",
       "        [0.56834701, 0.03436999, 0.42694717, ..., 0.50435014, 0.79707081,\n",
       "         1.        ]])]"
      ]
     },
     "execution_count": 9,
     "metadata": {},
     "output_type": "execute_result"
    }
   ],
   "source": [
    "fcmlist"
   ]
  },
  {
   "cell_type": "code",
   "execution_count": null,
   "id": "5ed7c396",
   "metadata": {},
   "outputs": [],
   "source": [
    "for i in range(1,len(fclist)):\n",
    "            for j in range(0,i):\n",
    "                cor = [] #每个社团的相关性\n",
    "                for c in range(0,max(partition.values())+1):\n",
    "                    c_idx = get_key(partition,c)\n",
    "                    cor_c = pd.Series(fclist[i][k][c_idx]).corr(pd.Series(fclist[j][k][c_idx]))\n",
    "                    # coarray--(1*(n(n-1)/2),n=window length)\n",
    "                    cor.append(cor_c)\n",
    "                corarray.apepend(cor)\n",
    "        Vk = 1-np.mean(corarray,axis=0)\n",
    "        corlist.append(Vk)"
   ]
  },
  {
   "cell_type": "code",
   "execution_count": null,
   "id": "dbfd5f49",
   "metadata": {},
   "outputs": [],
   "source": []
  },
  {
   "cell_type": "code",
   "execution_count": 26,
   "id": "93e3452f",
   "metadata": {
    "ExecuteTime": {
     "end_time": "2022-02-06T08:08:36.861993Z",
     "start_time": "2022-02-06T08:08:36.844246Z"
    }
   },
   "outputs": [],
   "source": [
    "# 计算函数主体\n",
    "\n",
    "def comm_dFC(data,window,partition,*,stride = 0,roi=0):\n",
    "    \n",
    "    \"\"\"\n",
    "    ***********parameters*************\n",
    "    data: timeseries of fMRI,each columns match a specific region\n",
    "    \n",
    "    window: window length\n",
    "    stride: step of each move\n",
    "    roi: number of region of interest,start from 1, if 0 is received, return all\n",
    "    **********************************\n",
    "    \"\"\"\n",
    "    if not stride: # stride为0 无重叠滑窗\n",
    "        stride = window\n",
    "\n",
    "    # 计算每个窗口下的FC矩阵\n",
    "    i = 0\n",
    "    fclist=[] # 每个窗口下的FC矩阵列表\n",
    "    while (i+window) < len(data)-1:\n",
    "        fc = np.corrcoef(data[i:i+window],rowvar=False)\n",
    "        fclist.append(fc)\n",
    "        i += stride\n",
    "    \n",
    "    # 计算动态变化性\n",
    "    corlist=[] # 每个脑区的列表\n",
    "    # 对每个脑区循环\n",
    "    for k in range(0,data.shape[1]):\n",
    "        corarray = [] #所有排列组合列表\n",
    "        for i in range(1,len(fclist)):\n",
    "            for j in range(0,i):\n",
    "                cor = [] #每个社团的相关性\n",
    "                for c in range(0,len(par)):\n",
    "                    c_idx = partition[c]\n",
    "                    cor_c = pd.Series(fclist[i][k][c_idx]).corr(pd.Series(fclist[j][k][c_idx]))\n",
    "                    # coarray--(1*(n(n-1)/2),n=window length)\n",
    "                    cor.append(cor_c)\n",
    "                corarray.append(cor)\n",
    "        Vk = 1-np.mean(corarray,axis=0)\n",
    "        corlist.append(Vk)\n",
    "\n",
    "            \n",
    "    if roi:\n",
    "        return corlist[roi-1]\n",
    "    else:\n",
    "        return corlist"
   ]
  },
  {
   "cell_type": "code",
   "execution_count": 10,
   "id": "9bcad3cb",
   "metadata": {
    "ExecuteTime": {
     "end_time": "2022-02-06T07:59:11.855964Z",
     "start_time": "2022-02-06T07:59:11.850700Z"
    }
   },
   "outputs": [],
   "source": [
    "par=[[1,2,3,4,5],[6,7,8,9,10]]"
   ]
  },
  {
   "cell_type": "code",
   "execution_count": 14,
   "id": "6060d05b",
   "metadata": {
    "ExecuteTime": {
     "end_time": "2022-02-06T08:02:44.230197Z",
     "start_time": "2022-02-06T08:02:44.222196Z"
    }
   },
   "outputs": [
    {
     "data": {
      "text/plain": [
       "2"
      ]
     },
     "execution_count": 14,
     "metadata": {},
     "output_type": "execute_result"
    }
   ],
   "source": [
    "len(par)"
   ]
  },
  {
   "cell_type": "code",
   "execution_count": 12,
   "id": "b1d67322",
   "metadata": {
    "ExecuteTime": {
     "end_time": "2022-02-06T07:59:18.205929Z",
     "start_time": "2022-02-06T07:59:18.200116Z"
    }
   },
   "outputs": [
    {
     "data": {
      "text/plain": [
       "[6, 7, 8, 9, 10]"
      ]
     },
     "execution_count": 12,
     "metadata": {},
     "output_type": "execute_result"
    }
   ],
   "source": [
    "par[1]"
   ]
  },
  {
   "cell_type": "code",
   "execution_count": 13,
   "id": "61cfc17f",
   "metadata": {
    "ExecuteTime": {
     "end_time": "2022-02-06T07:59:23.382122Z",
     "start_time": "2022-02-06T07:59:23.376556Z"
    }
   },
   "outputs": [
    {
     "data": {
      "text/plain": [
       "[1, 2, 3, 4, 5]"
      ]
     },
     "execution_count": 13,
     "metadata": {},
     "output_type": "execute_result"
    }
   ],
   "source": [
    "par[0]"
   ]
  },
  {
   "cell_type": "code",
   "execution_count": 27,
   "id": "2f162e1f",
   "metadata": {
    "ExecuteTime": {
     "end_time": "2022-02-06T08:08:47.079607Z",
     "start_time": "2022-02-06T08:08:40.343735Z"
    }
   },
   "outputs": [],
   "source": [
    "r = comm_dFC(pd.DataFrame(fmri[data[1][0]]).T,10,par)"
   ]
  },
  {
   "cell_type": "code",
   "execution_count": 30,
   "id": "a07bec5c",
   "metadata": {
    "ExecuteTime": {
     "end_time": "2022-02-07T01:23:49.970592Z",
     "start_time": "2022-02-07T01:23:49.955981Z"
    }
   },
   "outputs": [],
   "source": [
    "rp = pd.DataFrame(r)"
   ]
  },
  {
   "cell_type": "code",
   "execution_count": 31,
   "id": "4b213ba8",
   "metadata": {
    "ExecuteTime": {
     "end_time": "2022-02-07T01:23:54.954165Z",
     "start_time": "2022-02-07T01:23:54.940219Z"
    }
   },
   "outputs": [
    {
     "data": {
      "text/html": [
       "<div>\n",
       "<style scoped>\n",
       "    .dataframe tbody tr th:only-of-type {\n",
       "        vertical-align: middle;\n",
       "    }\n",
       "\n",
       "    .dataframe tbody tr th {\n",
       "        vertical-align: top;\n",
       "    }\n",
       "\n",
       "    .dataframe thead th {\n",
       "        text-align: right;\n",
       "    }\n",
       "</style>\n",
       "<table border=\"1\" class=\"dataframe\">\n",
       "  <thead>\n",
       "    <tr style=\"text-align: right;\">\n",
       "      <th></th>\n",
       "      <th>0</th>\n",
       "      <th>1</th>\n",
       "    </tr>\n",
       "  </thead>\n",
       "  <tbody>\n",
       "    <tr>\n",
       "      <th>0</th>\n",
       "      <td>1.014117</td>\n",
       "      <td>0.728068</td>\n",
       "    </tr>\n",
       "    <tr>\n",
       "      <th>1</th>\n",
       "      <td>0.409723</td>\n",
       "      <td>0.923438</td>\n",
       "    </tr>\n",
       "    <tr>\n",
       "      <th>2</th>\n",
       "      <td>0.383254</td>\n",
       "      <td>0.956896</td>\n",
       "    </tr>\n",
       "    <tr>\n",
       "      <th>3</th>\n",
       "      <td>0.546971</td>\n",
       "      <td>0.792291</td>\n",
       "    </tr>\n",
       "    <tr>\n",
       "      <th>4</th>\n",
       "      <td>0.511538</td>\n",
       "      <td>0.936037</td>\n",
       "    </tr>\n",
       "    <tr>\n",
       "      <th>...</th>\n",
       "      <td>...</td>\n",
       "      <td>...</td>\n",
       "    </tr>\n",
       "    <tr>\n",
       "      <th>89</th>\n",
       "      <td>0.699246</td>\n",
       "      <td>0.997429</td>\n",
       "    </tr>\n",
       "    <tr>\n",
       "      <th>90</th>\n",
       "      <td>0.784465</td>\n",
       "      <td>0.691094</td>\n",
       "    </tr>\n",
       "    <tr>\n",
       "      <th>91</th>\n",
       "      <td>0.938196</td>\n",
       "      <td>0.977484</td>\n",
       "    </tr>\n",
       "    <tr>\n",
       "      <th>92</th>\n",
       "      <td>0.842518</td>\n",
       "      <td>1.005793</td>\n",
       "    </tr>\n",
       "    <tr>\n",
       "      <th>93</th>\n",
       "      <td>0.765536</td>\n",
       "      <td>0.974907</td>\n",
       "    </tr>\n",
       "  </tbody>\n",
       "</table>\n",
       "<p>94 rows × 2 columns</p>\n",
       "</div>"
      ],
      "text/plain": [
       "           0         1\n",
       "0   1.014117  0.728068\n",
       "1   0.409723  0.923438\n",
       "2   0.383254  0.956896\n",
       "3   0.546971  0.792291\n",
       "4   0.511538  0.936037\n",
       "..       ...       ...\n",
       "89  0.699246  0.997429\n",
       "90  0.784465  0.691094\n",
       "91  0.938196  0.977484\n",
       "92  0.842518  1.005793\n",
       "93  0.765536  0.974907\n",
       "\n",
       "[94 rows x 2 columns]"
      ]
     },
     "execution_count": 31,
     "metadata": {},
     "output_type": "execute_result"
    }
   ],
   "source": [
    "rp"
   ]
  },
  {
   "cell_type": "code",
   "execution_count": 33,
   "id": "bbeaa554",
   "metadata": {
    "ExecuteTime": {
     "end_time": "2022-02-07T01:24:50.046951Z",
     "start_time": "2022-02-07T01:24:50.016754Z"
    }
   },
   "outputs": [
    {
     "ename": "OSError",
     "evalue": "Unable to open file (file signature not found)",
     "output_type": "error",
     "traceback": [
      "\u001b[0;31m---------------------------------------------------------------------------\u001b[0m",
      "\u001b[0;31mOSError\u001b[0m                                   Traceback (most recent call last)",
      "\u001b[0;32m/var/folders/1w/89cpzhkx6_n9jmj5sxns2xq80000gn/T/ipykernel_29969/1104942015.py\u001b[0m in \u001b[0;36m<module>\u001b[0;34m\u001b[0m\n\u001b[0;32m----> 1\u001b[0;31m \u001b[0mrs\u001b[0m \u001b[0;34m=\u001b[0m \u001b[0mh5py\u001b[0m\u001b[0;34m.\u001b[0m\u001b[0mFile\u001b[0m\u001b[0;34m(\u001b[0m\u001b[0;34m\"/Users/eugene_zh/Documents/MATLAB/rs.mat\"\u001b[0m\u001b[0;34m,\u001b[0m\u001b[0;34m'r+'\u001b[0m\u001b[0;34m)\u001b[0m\u001b[0;34m\u001b[0m\u001b[0;34m\u001b[0m\u001b[0m\n\u001b[0m\u001b[1;32m      2\u001b[0m \u001b[0mrs\u001b[0m\u001b[0;34m\u001b[0m\u001b[0;34m\u001b[0m\u001b[0m\n",
      "\u001b[0;32m/opt/anaconda3/lib/python3.8/site-packages/h5py/_hl/files.py\u001b[0m in \u001b[0;36m__init__\u001b[0;34m(self, name, mode, driver, libver, userblock_size, swmr, rdcc_nslots, rdcc_nbytes, rdcc_w0, track_order, **kwds)\u001b[0m\n\u001b[1;32m    404\u001b[0m             \u001b[0;32mwith\u001b[0m \u001b[0mphil\u001b[0m\u001b[0;34m:\u001b[0m\u001b[0;34m\u001b[0m\u001b[0;34m\u001b[0m\u001b[0m\n\u001b[1;32m    405\u001b[0m                 \u001b[0mfapl\u001b[0m \u001b[0;34m=\u001b[0m \u001b[0mmake_fapl\u001b[0m\u001b[0;34m(\u001b[0m\u001b[0mdriver\u001b[0m\u001b[0;34m,\u001b[0m \u001b[0mlibver\u001b[0m\u001b[0;34m,\u001b[0m \u001b[0mrdcc_nslots\u001b[0m\u001b[0;34m,\u001b[0m \u001b[0mrdcc_nbytes\u001b[0m\u001b[0;34m,\u001b[0m \u001b[0mrdcc_w0\u001b[0m\u001b[0;34m,\u001b[0m \u001b[0;34m**\u001b[0m\u001b[0mkwds\u001b[0m\u001b[0;34m)\u001b[0m\u001b[0;34m\u001b[0m\u001b[0;34m\u001b[0m\u001b[0m\n\u001b[0;32m--> 406\u001b[0;31m                 fid = make_fid(name, mode, userblock_size,\n\u001b[0m\u001b[1;32m    407\u001b[0m                                \u001b[0mfapl\u001b[0m\u001b[0;34m,\u001b[0m \u001b[0mfcpl\u001b[0m\u001b[0;34m=\u001b[0m\u001b[0mmake_fcpl\u001b[0m\u001b[0;34m(\u001b[0m\u001b[0mtrack_order\u001b[0m\u001b[0;34m=\u001b[0m\u001b[0mtrack_order\u001b[0m\u001b[0;34m)\u001b[0m\u001b[0;34m,\u001b[0m\u001b[0;34m\u001b[0m\u001b[0;34m\u001b[0m\u001b[0m\n\u001b[1;32m    408\u001b[0m                                swmr=swmr)\n",
      "\u001b[0;32m/opt/anaconda3/lib/python3.8/site-packages/h5py/_hl/files.py\u001b[0m in \u001b[0;36mmake_fid\u001b[0;34m(name, mode, userblock_size, fapl, fcpl, swmr)\u001b[0m\n\u001b[1;32m    173\u001b[0m         \u001b[0mfid\u001b[0m \u001b[0;34m=\u001b[0m \u001b[0mh5f\u001b[0m\u001b[0;34m.\u001b[0m\u001b[0mopen\u001b[0m\u001b[0;34m(\u001b[0m\u001b[0mname\u001b[0m\u001b[0;34m,\u001b[0m \u001b[0mflags\u001b[0m\u001b[0;34m,\u001b[0m \u001b[0mfapl\u001b[0m\u001b[0;34m=\u001b[0m\u001b[0mfapl\u001b[0m\u001b[0;34m)\u001b[0m\u001b[0;34m\u001b[0m\u001b[0;34m\u001b[0m\u001b[0m\n\u001b[1;32m    174\u001b[0m     \u001b[0;32melif\u001b[0m \u001b[0mmode\u001b[0m \u001b[0;34m==\u001b[0m \u001b[0;34m'r+'\u001b[0m\u001b[0;34m:\u001b[0m\u001b[0;34m\u001b[0m\u001b[0;34m\u001b[0m\u001b[0m\n\u001b[0;32m--> 175\u001b[0;31m         \u001b[0mfid\u001b[0m \u001b[0;34m=\u001b[0m \u001b[0mh5f\u001b[0m\u001b[0;34m.\u001b[0m\u001b[0mopen\u001b[0m\u001b[0;34m(\u001b[0m\u001b[0mname\u001b[0m\u001b[0;34m,\u001b[0m \u001b[0mh5f\u001b[0m\u001b[0;34m.\u001b[0m\u001b[0mACC_RDWR\u001b[0m\u001b[0;34m,\u001b[0m \u001b[0mfapl\u001b[0m\u001b[0;34m=\u001b[0m\u001b[0mfapl\u001b[0m\u001b[0;34m)\u001b[0m\u001b[0;34m\u001b[0m\u001b[0;34m\u001b[0m\u001b[0m\n\u001b[0m\u001b[1;32m    176\u001b[0m     \u001b[0;32melif\u001b[0m \u001b[0mmode\u001b[0m \u001b[0;32min\u001b[0m \u001b[0;34m[\u001b[0m\u001b[0;34m'w-'\u001b[0m\u001b[0;34m,\u001b[0m \u001b[0;34m'x'\u001b[0m\u001b[0;34m]\u001b[0m\u001b[0;34m:\u001b[0m\u001b[0;34m\u001b[0m\u001b[0;34m\u001b[0m\u001b[0m\n\u001b[1;32m    177\u001b[0m         \u001b[0mfid\u001b[0m \u001b[0;34m=\u001b[0m \u001b[0mh5f\u001b[0m\u001b[0;34m.\u001b[0m\u001b[0mcreate\u001b[0m\u001b[0;34m(\u001b[0m\u001b[0mname\u001b[0m\u001b[0;34m,\u001b[0m \u001b[0mh5f\u001b[0m\u001b[0;34m.\u001b[0m\u001b[0mACC_EXCL\u001b[0m\u001b[0;34m,\u001b[0m \u001b[0mfapl\u001b[0m\u001b[0;34m=\u001b[0m\u001b[0mfapl\u001b[0m\u001b[0;34m,\u001b[0m \u001b[0mfcpl\u001b[0m\u001b[0;34m=\u001b[0m\u001b[0mfcpl\u001b[0m\u001b[0;34m)\u001b[0m\u001b[0;34m\u001b[0m\u001b[0;34m\u001b[0m\u001b[0m\n",
      "\u001b[0;32mh5py/_objects.pyx\u001b[0m in \u001b[0;36mh5py._objects.with_phil.wrapper\u001b[0;34m()\u001b[0m\n",
      "\u001b[0;32mh5py/_objects.pyx\u001b[0m in \u001b[0;36mh5py._objects.with_phil.wrapper\u001b[0;34m()\u001b[0m\n",
      "\u001b[0;32mh5py/h5f.pyx\u001b[0m in \u001b[0;36mh5py.h5f.open\u001b[0;34m()\u001b[0m\n",
      "\u001b[0;31mOSError\u001b[0m: Unable to open file (file signature not found)"
     ]
    }
   ],
   "source": [
    "rs = h5py.File(\"/Users/eugene_zh/Documents/MATLAB/rs.mat\",'r+')               \n",
    "rs"
   ]
  },
  {
   "cell_type": "code",
   "execution_count": 36,
   "id": "fca2febf",
   "metadata": {
    "ExecuteTime": {
     "end_time": "2022-02-07T01:27:49.239832Z",
     "start_time": "2022-02-07T01:27:49.230568Z"
    }
   },
   "outputs": [],
   "source": [
    "import scipy.io \n",
    "rs = scipy.io.loadmat(\"/Users/eugene_zh/Documents/MATLAB/rs.mat\")"
   ]
  },
  {
   "cell_type": "code",
   "execution_count": 40,
   "id": "089ae50c",
   "metadata": {
    "ExecuteTime": {
     "end_time": "2022-02-07T01:28:22.099070Z",
     "start_time": "2022-02-07T01:28:22.091862Z"
    }
   },
   "outputs": [],
   "source": [
    "rs = pd.DataFrame(rs['rs']).T"
   ]
  },
  {
   "cell_type": "code",
   "execution_count": 41,
   "id": "2efc0dd5",
   "metadata": {
    "ExecuteTime": {
     "end_time": "2022-02-07T01:28:28.819409Z",
     "start_time": "2022-02-07T01:28:28.804204Z"
    }
   },
   "outputs": [
    {
     "data": {
      "text/html": [
       "<div>\n",
       "<style scoped>\n",
       "    .dataframe tbody tr th:only-of-type {\n",
       "        vertical-align: middle;\n",
       "    }\n",
       "\n",
       "    .dataframe tbody tr th {\n",
       "        vertical-align: top;\n",
       "    }\n",
       "\n",
       "    .dataframe thead th {\n",
       "        text-align: right;\n",
       "    }\n",
       "</style>\n",
       "<table border=\"1\" class=\"dataframe\">\n",
       "  <thead>\n",
       "    <tr style=\"text-align: right;\">\n",
       "      <th></th>\n",
       "      <th>0</th>\n",
       "      <th>1</th>\n",
       "    </tr>\n",
       "  </thead>\n",
       "  <tbody>\n",
       "    <tr>\n",
       "      <th>0</th>\n",
       "      <td>0.457600</td>\n",
       "      <td>0.904796</td>\n",
       "    </tr>\n",
       "    <tr>\n",
       "      <th>1</th>\n",
       "      <td>0.373643</td>\n",
       "      <td>0.860361</td>\n",
       "    </tr>\n",
       "    <tr>\n",
       "      <th>2</th>\n",
       "      <td>0.409824</td>\n",
       "      <td>0.688613</td>\n",
       "    </tr>\n",
       "    <tr>\n",
       "      <th>3</th>\n",
       "      <td>0.557239</td>\n",
       "      <td>0.618313</td>\n",
       "    </tr>\n",
       "    <tr>\n",
       "      <th>4</th>\n",
       "      <td>0.517231</td>\n",
       "      <td>0.645063</td>\n",
       "    </tr>\n",
       "    <tr>\n",
       "      <th>...</th>\n",
       "      <td>...</td>\n",
       "      <td>...</td>\n",
       "    </tr>\n",
       "    <tr>\n",
       "      <th>89</th>\n",
       "      <td>0.956564</td>\n",
       "      <td>0.894116</td>\n",
       "    </tr>\n",
       "    <tr>\n",
       "      <th>90</th>\n",
       "      <td>0.911784</td>\n",
       "      <td>0.856850</td>\n",
       "    </tr>\n",
       "    <tr>\n",
       "      <th>91</th>\n",
       "      <td>0.726410</td>\n",
       "      <td>0.830221</td>\n",
       "    </tr>\n",
       "    <tr>\n",
       "      <th>92</th>\n",
       "      <td>0.994747</td>\n",
       "      <td>0.956589</td>\n",
       "    </tr>\n",
       "    <tr>\n",
       "      <th>93</th>\n",
       "      <td>1.001307</td>\n",
       "      <td>1.012018</td>\n",
       "    </tr>\n",
       "  </tbody>\n",
       "</table>\n",
       "<p>94 rows × 2 columns</p>\n",
       "</div>"
      ],
      "text/plain": [
       "           0         1\n",
       "0   0.457600  0.904796\n",
       "1   0.373643  0.860361\n",
       "2   0.409824  0.688613\n",
       "3   0.557239  0.618313\n",
       "4   0.517231  0.645063\n",
       "..       ...       ...\n",
       "89  0.956564  0.894116\n",
       "90  0.911784  0.856850\n",
       "91  0.726410  0.830221\n",
       "92  0.994747  0.956589\n",
       "93  1.001307  1.012018\n",
       "\n",
       "[94 rows x 2 columns]"
      ]
     },
     "execution_count": 41,
     "metadata": {},
     "output_type": "execute_result"
    }
   ],
   "source": [
    "rs"
   ]
  },
  {
   "cell_type": "code",
   "execution_count": 42,
   "id": "49456aa8",
   "metadata": {
    "ExecuteTime": {
     "end_time": "2022-02-07T01:29:51.574964Z",
     "start_time": "2022-02-07T01:29:51.553804Z"
    }
   },
   "outputs": [
    {
     "data": {
      "text/html": [
       "<div>\n",
       "<style scoped>\n",
       "    .dataframe tbody tr th:only-of-type {\n",
       "        vertical-align: middle;\n",
       "    }\n",
       "\n",
       "    .dataframe tbody tr th {\n",
       "        vertical-align: top;\n",
       "    }\n",
       "\n",
       "    .dataframe thead th {\n",
       "        text-align: right;\n",
       "    }\n",
       "</style>\n",
       "<table border=\"1\" class=\"dataframe\">\n",
       "  <thead>\n",
       "    <tr style=\"text-align: right;\">\n",
       "      <th></th>\n",
       "      <th>0</th>\n",
       "      <th>1</th>\n",
       "    </tr>\n",
       "  </thead>\n",
       "  <tbody>\n",
       "    <tr>\n",
       "      <th>0</th>\n",
       "      <td>0.630477</td>\n",
       "      <td>0.145900</td>\n",
       "    </tr>\n",
       "    <tr>\n",
       "      <th>1</th>\n",
       "      <td>0.452824</td>\n",
       "      <td>0.377018</td>\n",
       "    </tr>\n",
       "  </tbody>\n",
       "</table>\n",
       "</div>"
      ],
      "text/plain": [
       "          0         1\n",
       "0  0.630477  0.145900\n",
       "1  0.452824  0.377018"
      ]
     },
     "execution_count": 42,
     "metadata": {},
     "output_type": "execute_result"
    }
   ],
   "source": [
    "rp.apply(lambda s: rs.corrwith(s))"
   ]
  },
  {
   "cell_type": "code",
   "execution_count": 43,
   "id": "0c162e7f",
   "metadata": {
    "ExecuteTime": {
     "end_time": "2022-02-07T01:31:26.315979Z",
     "start_time": "2022-02-07T01:31:26.310139Z"
    }
   },
   "outputs": [],
   "source": [
    "rr = pd.concat([rs,rp],axis=1)"
   ]
  },
  {
   "cell_type": "code",
   "execution_count": 44,
   "id": "87f22d4d",
   "metadata": {
    "ExecuteTime": {
     "end_time": "2022-02-07T01:31:28.044617Z",
     "start_time": "2022-02-07T01:31:28.026145Z"
    }
   },
   "outputs": [
    {
     "data": {
      "text/html": [
       "<div>\n",
       "<style scoped>\n",
       "    .dataframe tbody tr th:only-of-type {\n",
       "        vertical-align: middle;\n",
       "    }\n",
       "\n",
       "    .dataframe tbody tr th {\n",
       "        vertical-align: top;\n",
       "    }\n",
       "\n",
       "    .dataframe thead th {\n",
       "        text-align: right;\n",
       "    }\n",
       "</style>\n",
       "<table border=\"1\" class=\"dataframe\">\n",
       "  <thead>\n",
       "    <tr style=\"text-align: right;\">\n",
       "      <th></th>\n",
       "      <th>0</th>\n",
       "      <th>1</th>\n",
       "      <th>0</th>\n",
       "      <th>1</th>\n",
       "    </tr>\n",
       "  </thead>\n",
       "  <tbody>\n",
       "    <tr>\n",
       "      <th>0</th>\n",
       "      <td>0.457600</td>\n",
       "      <td>0.904796</td>\n",
       "      <td>1.014117</td>\n",
       "      <td>0.728068</td>\n",
       "    </tr>\n",
       "    <tr>\n",
       "      <th>1</th>\n",
       "      <td>0.373643</td>\n",
       "      <td>0.860361</td>\n",
       "      <td>0.409723</td>\n",
       "      <td>0.923438</td>\n",
       "    </tr>\n",
       "    <tr>\n",
       "      <th>2</th>\n",
       "      <td>0.409824</td>\n",
       "      <td>0.688613</td>\n",
       "      <td>0.383254</td>\n",
       "      <td>0.956896</td>\n",
       "    </tr>\n",
       "    <tr>\n",
       "      <th>3</th>\n",
       "      <td>0.557239</td>\n",
       "      <td>0.618313</td>\n",
       "      <td>0.546971</td>\n",
       "      <td>0.792291</td>\n",
       "    </tr>\n",
       "    <tr>\n",
       "      <th>4</th>\n",
       "      <td>0.517231</td>\n",
       "      <td>0.645063</td>\n",
       "      <td>0.511538</td>\n",
       "      <td>0.936037</td>\n",
       "    </tr>\n",
       "    <tr>\n",
       "      <th>...</th>\n",
       "      <td>...</td>\n",
       "      <td>...</td>\n",
       "      <td>...</td>\n",
       "      <td>...</td>\n",
       "    </tr>\n",
       "    <tr>\n",
       "      <th>89</th>\n",
       "      <td>0.956564</td>\n",
       "      <td>0.894116</td>\n",
       "      <td>0.699246</td>\n",
       "      <td>0.997429</td>\n",
       "    </tr>\n",
       "    <tr>\n",
       "      <th>90</th>\n",
       "      <td>0.911784</td>\n",
       "      <td>0.856850</td>\n",
       "      <td>0.784465</td>\n",
       "      <td>0.691094</td>\n",
       "    </tr>\n",
       "    <tr>\n",
       "      <th>91</th>\n",
       "      <td>0.726410</td>\n",
       "      <td>0.830221</td>\n",
       "      <td>0.938196</td>\n",
       "      <td>0.977484</td>\n",
       "    </tr>\n",
       "    <tr>\n",
       "      <th>92</th>\n",
       "      <td>0.994747</td>\n",
       "      <td>0.956589</td>\n",
       "      <td>0.842518</td>\n",
       "      <td>1.005793</td>\n",
       "    </tr>\n",
       "    <tr>\n",
       "      <th>93</th>\n",
       "      <td>1.001307</td>\n",
       "      <td>1.012018</td>\n",
       "      <td>0.765536</td>\n",
       "      <td>0.974907</td>\n",
       "    </tr>\n",
       "  </tbody>\n",
       "</table>\n",
       "<p>94 rows × 4 columns</p>\n",
       "</div>"
      ],
      "text/plain": [
       "           0         1         0         1\n",
       "0   0.457600  0.904796  1.014117  0.728068\n",
       "1   0.373643  0.860361  0.409723  0.923438\n",
       "2   0.409824  0.688613  0.383254  0.956896\n",
       "3   0.557239  0.618313  0.546971  0.792291\n",
       "4   0.517231  0.645063  0.511538  0.936037\n",
       "..       ...       ...       ...       ...\n",
       "89  0.956564  0.894116  0.699246  0.997429\n",
       "90  0.911784  0.856850  0.784465  0.691094\n",
       "91  0.726410  0.830221  0.938196  0.977484\n",
       "92  0.994747  0.956589  0.842518  1.005793\n",
       "93  1.001307  1.012018  0.765536  0.974907\n",
       "\n",
       "[94 rows x 4 columns]"
      ]
     },
     "execution_count": 44,
     "metadata": {},
     "output_type": "execute_result"
    }
   ],
   "source": [
    "rr"
   ]
  },
  {
   "cell_type": "code",
   "execution_count": 45,
   "id": "907ebe1b",
   "metadata": {
    "ExecuteTime": {
     "end_time": "2022-02-07T01:31:37.654333Z",
     "start_time": "2022-02-07T01:31:37.636381Z"
    }
   },
   "outputs": [
    {
     "data": {
      "text/html": [
       "<div>\n",
       "<style scoped>\n",
       "    .dataframe tbody tr th:only-of-type {\n",
       "        vertical-align: middle;\n",
       "    }\n",
       "\n",
       "    .dataframe tbody tr th {\n",
       "        vertical-align: top;\n",
       "    }\n",
       "\n",
       "    .dataframe thead th {\n",
       "        text-align: right;\n",
       "    }\n",
       "</style>\n",
       "<table border=\"1\" class=\"dataframe\">\n",
       "  <thead>\n",
       "    <tr style=\"text-align: right;\">\n",
       "      <th></th>\n",
       "      <th>0</th>\n",
       "      <th>1</th>\n",
       "      <th>0</th>\n",
       "      <th>1</th>\n",
       "    </tr>\n",
       "  </thead>\n",
       "  <tbody>\n",
       "    <tr>\n",
       "      <th>0</th>\n",
       "      <td>1.000000</td>\n",
       "      <td>0.745642</td>\n",
       "      <td>0.630477</td>\n",
       "      <td>0.145900</td>\n",
       "    </tr>\n",
       "    <tr>\n",
       "      <th>1</th>\n",
       "      <td>0.745642</td>\n",
       "      <td>1.000000</td>\n",
       "      <td>0.452824</td>\n",
       "      <td>0.377018</td>\n",
       "    </tr>\n",
       "    <tr>\n",
       "      <th>0</th>\n",
       "      <td>0.630477</td>\n",
       "      <td>0.452824</td>\n",
       "      <td>1.000000</td>\n",
       "      <td>0.001320</td>\n",
       "    </tr>\n",
       "    <tr>\n",
       "      <th>1</th>\n",
       "      <td>0.145900</td>\n",
       "      <td>0.377018</td>\n",
       "      <td>0.001320</td>\n",
       "      <td>1.000000</td>\n",
       "    </tr>\n",
       "  </tbody>\n",
       "</table>\n",
       "</div>"
      ],
      "text/plain": [
       "          0         1         0         1\n",
       "0  1.000000  0.745642  0.630477  0.145900\n",
       "1  0.745642  1.000000  0.452824  0.377018\n",
       "0  0.630477  0.452824  1.000000  0.001320\n",
       "1  0.145900  0.377018  0.001320  1.000000"
      ]
     },
     "execution_count": 45,
     "metadata": {},
     "output_type": "execute_result"
    }
   ],
   "source": [
    "rr.corr()"
   ]
  },
  {
   "cell_type": "code",
   "execution_count": null,
   "id": "e2cbc5b2",
   "metadata": {},
   "outputs": [],
   "source": []
  }
 ],
 "metadata": {
  "kernelspec": {
   "display_name": "Python 3 (ipykernel)",
   "language": "python",
   "name": "python3"
  },
  "language_info": {
   "codemirror_mode": {
    "name": "ipython",
    "version": 3
   },
   "file_extension": ".py",
   "mimetype": "text/x-python",
   "name": "python",
   "nbconvert_exporter": "python",
   "pygments_lexer": "ipython3",
   "version": "3.9.10"
  },
  "toc": {
   "base_numbering": 1,
   "nav_menu": {},
   "number_sections": true,
   "sideBar": true,
   "skip_h1_title": true,
   "title_cell": "Table of Contents",
   "title_sidebar": "Contents",
   "toc_cell": false,
   "toc_position": {},
   "toc_section_display": true,
   "toc_window_display": false
  },
  "varInspector": {
   "cols": {
    "lenName": 16,
    "lenType": 16,
    "lenVar": 40
   },
   "kernels_config": {
    "python": {
     "delete_cmd_postfix": "",
     "delete_cmd_prefix": "del ",
     "library": "var_list.py",
     "varRefreshCmd": "print(var_dic_list())"
    },
    "r": {
     "delete_cmd_postfix": ") ",
     "delete_cmd_prefix": "rm(",
     "library": "var_list.r",
     "varRefreshCmd": "cat(var_dic_list()) "
    }
   },
   "position": {
    "height": "440px",
    "left": "1169px",
    "right": "20px",
    "top": "120px",
    "width": "252px"
   },
   "types_to_exclude": [
    "module",
    "function",
    "builtin_function_or_method",
    "instance",
    "_Feature"
   ],
   "window_display": false
  }
 },
 "nbformat": 4,
 "nbformat_minor": 5
}
